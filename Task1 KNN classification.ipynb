{
 "cells": [
  {
   "cell_type": "code",
   "execution_count": 1,
   "id": "82fe5e4f",
   "metadata": {},
   "outputs": [],
   "source": [
    "import numpy as np\n",
    "import pandas as pd\n",
    "import sklearn as sk\n",
    "import matplotlib.pyplot as plt\n",
    "import seaborn as sns\n"
   ]
  },
  {
   "cell_type": "code",
   "execution_count": 2,
   "id": "e037fdfe",
   "metadata": {},
   "outputs": [],
   "source": [
    "bank_data=pd.read_csv(\"bank_marketing .csv\")"
   ]
  },
  {
   "cell_type": "code",
   "execution_count": 3,
   "id": "87aca2de",
   "metadata": {},
   "outputs": [
    {
     "data": {
      "text/html": [
       "<div>\n",
       "<style scoped>\n",
       "    .dataframe tbody tr th:only-of-type {\n",
       "        vertical-align: middle;\n",
       "    }\n",
       "\n",
       "    .dataframe tbody tr th {\n",
       "        vertical-align: top;\n",
       "    }\n",
       "\n",
       "    .dataframe thead th {\n",
       "        text-align: right;\n",
       "    }\n",
       "</style>\n",
       "<table border=\"1\" class=\"dataframe\">\n",
       "  <thead>\n",
       "    <tr style=\"text-align: right;\">\n",
       "      <th></th>\n",
       "      <th>age</th>\n",
       "      <th>job</th>\n",
       "      <th>marital</th>\n",
       "      <th>education</th>\n",
       "      <th>credit</th>\n",
       "      <th>balance</th>\n",
       "      <th>housing</th>\n",
       "      <th>loan</th>\n",
       "      <th>day</th>\n",
       "      <th>duration</th>\n",
       "      <th>campaign</th>\n",
       "      <th>pdays</th>\n",
       "      <th>previous</th>\n",
       "      <th>y</th>\n",
       "    </tr>\n",
       "  </thead>\n",
       "  <tbody>\n",
       "    <tr>\n",
       "      <th>0</th>\n",
       "      <td>58</td>\n",
       "      <td>management</td>\n",
       "      <td>married</td>\n",
       "      <td>tertiary</td>\n",
       "      <td>no</td>\n",
       "      <td>2143</td>\n",
       "      <td>yes</td>\n",
       "      <td>no</td>\n",
       "      <td>5</td>\n",
       "      <td>261</td>\n",
       "      <td>1</td>\n",
       "      <td>-1</td>\n",
       "      <td>0</td>\n",
       "      <td>no</td>\n",
       "    </tr>\n",
       "    <tr>\n",
       "      <th>1</th>\n",
       "      <td>44</td>\n",
       "      <td>technician</td>\n",
       "      <td>single</td>\n",
       "      <td>secondary</td>\n",
       "      <td>no</td>\n",
       "      <td>29</td>\n",
       "      <td>yes</td>\n",
       "      <td>no</td>\n",
       "      <td>5</td>\n",
       "      <td>151</td>\n",
       "      <td>1</td>\n",
       "      <td>-1</td>\n",
       "      <td>0</td>\n",
       "      <td>no</td>\n",
       "    </tr>\n",
       "    <tr>\n",
       "      <th>2</th>\n",
       "      <td>33</td>\n",
       "      <td>entrepreneur</td>\n",
       "      <td>married</td>\n",
       "      <td>secondary</td>\n",
       "      <td>no</td>\n",
       "      <td>2</td>\n",
       "      <td>yes</td>\n",
       "      <td>yes</td>\n",
       "      <td>5</td>\n",
       "      <td>76</td>\n",
       "      <td>1</td>\n",
       "      <td>-1</td>\n",
       "      <td>0</td>\n",
       "      <td>no</td>\n",
       "    </tr>\n",
       "    <tr>\n",
       "      <th>3</th>\n",
       "      <td>47</td>\n",
       "      <td>blue-collar</td>\n",
       "      <td>married</td>\n",
       "      <td>unknown</td>\n",
       "      <td>no</td>\n",
       "      <td>1506</td>\n",
       "      <td>yes</td>\n",
       "      <td>no</td>\n",
       "      <td>5</td>\n",
       "      <td>92</td>\n",
       "      <td>1</td>\n",
       "      <td>-1</td>\n",
       "      <td>0</td>\n",
       "      <td>no</td>\n",
       "    </tr>\n",
       "    <tr>\n",
       "      <th>4</th>\n",
       "      <td>33</td>\n",
       "      <td>unknown</td>\n",
       "      <td>single</td>\n",
       "      <td>unknown</td>\n",
       "      <td>no</td>\n",
       "      <td>1</td>\n",
       "      <td>no</td>\n",
       "      <td>no</td>\n",
       "      <td>5</td>\n",
       "      <td>198</td>\n",
       "      <td>1</td>\n",
       "      <td>-1</td>\n",
       "      <td>0</td>\n",
       "      <td>no</td>\n",
       "    </tr>\n",
       "    <tr>\n",
       "      <th>...</th>\n",
       "      <td>...</td>\n",
       "      <td>...</td>\n",
       "      <td>...</td>\n",
       "      <td>...</td>\n",
       "      <td>...</td>\n",
       "      <td>...</td>\n",
       "      <td>...</td>\n",
       "      <td>...</td>\n",
       "      <td>...</td>\n",
       "      <td>...</td>\n",
       "      <td>...</td>\n",
       "      <td>...</td>\n",
       "      <td>...</td>\n",
       "      <td>...</td>\n",
       "    </tr>\n",
       "    <tr>\n",
       "      <th>45206</th>\n",
       "      <td>51</td>\n",
       "      <td>technician</td>\n",
       "      <td>married</td>\n",
       "      <td>tertiary</td>\n",
       "      <td>no</td>\n",
       "      <td>825</td>\n",
       "      <td>no</td>\n",
       "      <td>no</td>\n",
       "      <td>17</td>\n",
       "      <td>977</td>\n",
       "      <td>3</td>\n",
       "      <td>-1</td>\n",
       "      <td>0</td>\n",
       "      <td>yes</td>\n",
       "    </tr>\n",
       "    <tr>\n",
       "      <th>45207</th>\n",
       "      <td>71</td>\n",
       "      <td>retired</td>\n",
       "      <td>divorced</td>\n",
       "      <td>primary</td>\n",
       "      <td>no</td>\n",
       "      <td>1729</td>\n",
       "      <td>no</td>\n",
       "      <td>no</td>\n",
       "      <td>17</td>\n",
       "      <td>456</td>\n",
       "      <td>2</td>\n",
       "      <td>-1</td>\n",
       "      <td>0</td>\n",
       "      <td>yes</td>\n",
       "    </tr>\n",
       "    <tr>\n",
       "      <th>45208</th>\n",
       "      <td>72</td>\n",
       "      <td>retired</td>\n",
       "      <td>married</td>\n",
       "      <td>secondary</td>\n",
       "      <td>no</td>\n",
       "      <td>5715</td>\n",
       "      <td>no</td>\n",
       "      <td>no</td>\n",
       "      <td>17</td>\n",
       "      <td>1127</td>\n",
       "      <td>5</td>\n",
       "      <td>184</td>\n",
       "      <td>3</td>\n",
       "      <td>yes</td>\n",
       "    </tr>\n",
       "    <tr>\n",
       "      <th>45209</th>\n",
       "      <td>57</td>\n",
       "      <td>blue-collar</td>\n",
       "      <td>married</td>\n",
       "      <td>secondary</td>\n",
       "      <td>no</td>\n",
       "      <td>668</td>\n",
       "      <td>no</td>\n",
       "      <td>no</td>\n",
       "      <td>17</td>\n",
       "      <td>508</td>\n",
       "      <td>4</td>\n",
       "      <td>-1</td>\n",
       "      <td>0</td>\n",
       "      <td>no</td>\n",
       "    </tr>\n",
       "    <tr>\n",
       "      <th>45210</th>\n",
       "      <td>37</td>\n",
       "      <td>entrepreneur</td>\n",
       "      <td>married</td>\n",
       "      <td>secondary</td>\n",
       "      <td>no</td>\n",
       "      <td>2971</td>\n",
       "      <td>no</td>\n",
       "      <td>no</td>\n",
       "      <td>17</td>\n",
       "      <td>361</td>\n",
       "      <td>2</td>\n",
       "      <td>188</td>\n",
       "      <td>11</td>\n",
       "      <td>no</td>\n",
       "    </tr>\n",
       "  </tbody>\n",
       "</table>\n",
       "<p>45211 rows × 14 columns</p>\n",
       "</div>"
      ],
      "text/plain": [
       "       age           job   marital  education credit  balance housing loan  \\\n",
       "0       58    management   married   tertiary     no     2143     yes   no   \n",
       "1       44    technician    single  secondary     no       29     yes   no   \n",
       "2       33  entrepreneur   married  secondary     no        2     yes  yes   \n",
       "3       47   blue-collar   married    unknown     no     1506     yes   no   \n",
       "4       33       unknown    single    unknown     no        1      no   no   \n",
       "...    ...           ...       ...        ...    ...      ...     ...  ...   \n",
       "45206   51    technician   married   tertiary     no      825      no   no   \n",
       "45207   71       retired  divorced    primary     no     1729      no   no   \n",
       "45208   72       retired   married  secondary     no     5715      no   no   \n",
       "45209   57   blue-collar   married  secondary     no      668      no   no   \n",
       "45210   37  entrepreneur   married  secondary     no     2971      no   no   \n",
       "\n",
       "       day  duration  campaign  pdays  previous    y  \n",
       "0        5       261         1     -1         0   no  \n",
       "1        5       151         1     -1         0   no  \n",
       "2        5        76         1     -1         0   no  \n",
       "3        5        92         1     -1         0   no  \n",
       "4        5       198         1     -1         0   no  \n",
       "...    ...       ...       ...    ...       ...  ...  \n",
       "45206   17       977         3     -1         0  yes  \n",
       "45207   17       456         2     -1         0  yes  \n",
       "45208   17      1127         5    184         3  yes  \n",
       "45209   17       508         4     -1         0   no  \n",
       "45210   17       361         2    188        11   no  \n",
       "\n",
       "[45211 rows x 14 columns]"
      ]
     },
     "execution_count": 3,
     "metadata": {},
     "output_type": "execute_result"
    }
   ],
   "source": [
    "bank_data"
   ]
  },
  {
   "cell_type": "code",
   "execution_count": 4,
   "id": "c4d52d51",
   "metadata": {},
   "outputs": [],
   "source": [
    "# Checking for unknown values"
   ]
  },
  {
   "cell_type": "code",
   "execution_count": 5,
   "id": "496ca8b6",
   "metadata": {},
   "outputs": [],
   "source": [
    "# checking for any null value in age column"
   ]
  },
  {
   "cell_type": "code",
   "execution_count": 6,
   "id": "d2c65535",
   "metadata": {},
   "outputs": [
    {
     "data": {
      "text/plain": [
       "False"
      ]
     },
     "execution_count": 6,
     "metadata": {},
     "output_type": "execute_result"
    }
   ],
   "source": [
    "bank_data.iloc[:,0].isnull().values.any()"
   ]
  },
  {
   "cell_type": "code",
   "execution_count": 7,
   "id": "53a34fa4",
   "metadata": {},
   "outputs": [],
   "source": [
    "# checking for any null value in job column"
   ]
  },
  {
   "cell_type": "code",
   "execution_count": 8,
   "id": "c3f77889",
   "metadata": {},
   "outputs": [
    {
     "data": {
      "text/plain": [
       "blue-collar      9732\n",
       "management       9458\n",
       "technician       7597\n",
       "admin.           5171\n",
       "services         4154\n",
       "retired          2264\n",
       "self-employed    1579\n",
       "entrepreneur     1487\n",
       "unemployed       1303\n",
       "housemaid        1240\n",
       "student           938\n",
       "unknown           288\n",
       "Name: job, dtype: int64"
      ]
     },
     "execution_count": 8,
     "metadata": {},
     "output_type": "execute_result"
    }
   ],
   "source": [
    "bank_data.iloc[:,1].value_counts()"
   ]
  },
  {
   "cell_type": "code",
   "execution_count": 9,
   "id": "35616665",
   "metadata": {},
   "outputs": [],
   "source": [
    "# calculating the percentage of unknown variable in job column"
   ]
  },
  {
   "cell_type": "code",
   "execution_count": 10,
   "id": "1e6f6995",
   "metadata": {},
   "outputs": [
    {
     "data": {
      "text/plain": [
       "blue-collar      21.525735\n",
       "management       20.919688\n",
       "technician       16.803433\n",
       "admin.           11.437482\n",
       "services          9.188029\n",
       "retired           5.007631\n",
       "self-employed     3.492513\n",
       "entrepreneur      3.289023\n",
       "unemployed        2.882042\n",
       "housemaid         2.742695\n",
       "student           2.074716\n",
       "unknown           0.637013\n",
       "Name: job, dtype: float64"
      ]
     },
     "execution_count": 10,
     "metadata": {},
     "output_type": "execute_result"
    }
   ],
   "source": [
    "(bank_data.iloc[:,1].value_counts()/len(bank_data))*100"
   ]
  },
  {
   "cell_type": "code",
   "execution_count": 11,
   "id": "38541d0b",
   "metadata": {},
   "outputs": [],
   "source": [
    "# Removing the rows having unknown variable in job column since the percentage of of unknown variable is less than 5%"
   ]
  },
  {
   "cell_type": "code",
   "execution_count": 12,
   "id": "ca22e791",
   "metadata": {},
   "outputs": [],
   "source": [
    "bank_data = bank_data.drop(bank_data[bank_data.job =='unknown'].index)"
   ]
  },
  {
   "cell_type": "code",
   "execution_count": 13,
   "id": "c0442cc7",
   "metadata": {},
   "outputs": [
    {
     "data": {
      "text/plain": [
       "blue-collar      9732\n",
       "management       9458\n",
       "technician       7597\n",
       "admin.           5171\n",
       "services         4154\n",
       "retired          2264\n",
       "self-employed    1579\n",
       "entrepreneur     1487\n",
       "unemployed       1303\n",
       "housemaid        1240\n",
       "student           938\n",
       "Name: job, dtype: int64"
      ]
     },
     "execution_count": 13,
     "metadata": {},
     "output_type": "execute_result"
    }
   ],
   "source": [
    "bank_data.iloc[:,1].value_counts()"
   ]
  },
  {
   "cell_type": "code",
   "execution_count": 14,
   "id": "86f2231a",
   "metadata": {},
   "outputs": [],
   "source": [
    "# checking for any null value in marital column"
   ]
  },
  {
   "cell_type": "code",
   "execution_count": 15,
   "id": "2f5811d6",
   "metadata": {},
   "outputs": [
    {
     "data": {
      "text/plain": [
       "married     27011\n",
       "single      12722\n",
       "divorced     5190\n",
       "Name: marital, dtype: int64"
      ]
     },
     "execution_count": 15,
     "metadata": {},
     "output_type": "execute_result"
    }
   ],
   "source": [
    "bank_data.iloc[:,2].value_counts()"
   ]
  },
  {
   "cell_type": "code",
   "execution_count": 16,
   "id": "2fd94d8c",
   "metadata": {},
   "outputs": [],
   "source": [
    "# checking for any null value in education column"
   ]
  },
  {
   "cell_type": "code",
   "execution_count": 17,
   "id": "79990548",
   "metadata": {},
   "outputs": [
    {
     "data": {
      "text/plain": [
       "secondary    23131\n",
       "tertiary     13262\n",
       "primary       6800\n",
       "unknown       1730\n",
       "Name: education, dtype: int64"
      ]
     },
     "execution_count": 17,
     "metadata": {},
     "output_type": "execute_result"
    }
   ],
   "source": [
    "bank_data.iloc[:,3].value_counts()"
   ]
  },
  {
   "cell_type": "code",
   "execution_count": 18,
   "id": "e365790e",
   "metadata": {},
   "outputs": [],
   "source": [
    "# calculating the percentage of unknown variable in education column"
   ]
  },
  {
   "cell_type": "code",
   "execution_count": 19,
   "id": "05585dcc",
   "metadata": {},
   "outputs": [
    {
     "data": {
      "text/plain": [
       "secondary    51.490328\n",
       "tertiary     29.521626\n",
       "primary      15.137012\n",
       "unknown       3.851034\n",
       "Name: education, dtype: float64"
      ]
     },
     "execution_count": 19,
     "metadata": {},
     "output_type": "execute_result"
    }
   ],
   "source": [
    "(bank_data.iloc[:,3].value_counts()/len(bank_data))*100"
   ]
  },
  {
   "cell_type": "code",
   "execution_count": 20,
   "id": "7f0b091d",
   "metadata": {},
   "outputs": [],
   "source": [
    "# Removing the rows having unknown variable in education column since the percentage of of unknown variable is less than 5%"
   ]
  },
  {
   "cell_type": "code",
   "execution_count": 21,
   "id": "1472c1fe",
   "metadata": {},
   "outputs": [],
   "source": [
    "bank_data = bank_data.drop(bank_data[bank_data.education=='unknown'].index)"
   ]
  },
  {
   "cell_type": "code",
   "execution_count": 22,
   "id": "53bcfbaa",
   "metadata": {},
   "outputs": [
    {
     "data": {
      "text/plain": [
       "secondary    23131\n",
       "tertiary     13262\n",
       "primary       6800\n",
       "Name: education, dtype: int64"
      ]
     },
     "execution_count": 22,
     "metadata": {},
     "output_type": "execute_result"
    }
   ],
   "source": [
    "bank_data.iloc[:,3].value_counts()"
   ]
  },
  {
   "cell_type": "code",
   "execution_count": 23,
   "id": "d9d4dc16",
   "metadata": {},
   "outputs": [],
   "source": [
    "# checking for any null value in credit column"
   ]
  },
  {
   "cell_type": "code",
   "execution_count": 24,
   "id": "9ec281cf",
   "metadata": {},
   "outputs": [
    {
     "data": {
      "text/plain": [
       "no     42411\n",
       "yes      782\n",
       "Name: credit, dtype: int64"
      ]
     },
     "execution_count": 24,
     "metadata": {},
     "output_type": "execute_result"
    }
   ],
   "source": [
    "bank_data.iloc[:,4].value_counts()"
   ]
  },
  {
   "cell_type": "code",
   "execution_count": 25,
   "id": "a430a736",
   "metadata": {},
   "outputs": [],
   "source": [
    "# checking for any null value in balance column"
   ]
  },
  {
   "cell_type": "code",
   "execution_count": 26,
   "id": "0e6111d1",
   "metadata": {},
   "outputs": [
    {
     "data": {
      "text/plain": [
       "False"
      ]
     },
     "execution_count": 26,
     "metadata": {},
     "output_type": "execute_result"
    }
   ],
   "source": [
    "bank_data.iloc[:,5].isnull().values.any()"
   ]
  },
  {
   "cell_type": "code",
   "execution_count": 27,
   "id": "d9edc8c6",
   "metadata": {},
   "outputs": [],
   "source": [
    "# checking for any null value in housing column"
   ]
  },
  {
   "cell_type": "code",
   "execution_count": 28,
   "id": "1bcc9fe6",
   "metadata": {},
   "outputs": [
    {
     "data": {
      "text/plain": [
       "yes    24292\n",
       "no     18901\n",
       "Name: housing, dtype: int64"
      ]
     },
     "execution_count": 28,
     "metadata": {},
     "output_type": "execute_result"
    }
   ],
   "source": [
    "bank_data.iloc[:,6].value_counts()"
   ]
  },
  {
   "cell_type": "code",
   "execution_count": 29,
   "id": "44962e76",
   "metadata": {},
   "outputs": [],
   "source": [
    "# checking for any null value in loan column"
   ]
  },
  {
   "cell_type": "code",
   "execution_count": 30,
   "id": "2b957984",
   "metadata": {},
   "outputs": [
    {
     "data": {
      "text/plain": [
       "False"
      ]
     },
     "execution_count": 30,
     "metadata": {},
     "output_type": "execute_result"
    }
   ],
   "source": [
    "bank_data.iloc[:,7].isnull().values.any()"
   ]
  },
  {
   "cell_type": "code",
   "execution_count": 31,
   "id": "12bbddf7",
   "metadata": {},
   "outputs": [],
   "source": [
    "# checking for any null value in day column"
   ]
  },
  {
   "cell_type": "code",
   "execution_count": 32,
   "id": "f7f485ef",
   "metadata": {},
   "outputs": [
    {
     "data": {
      "text/plain": [
       "False"
      ]
     },
     "execution_count": 32,
     "metadata": {},
     "output_type": "execute_result"
    }
   ],
   "source": [
    "bank_data.iloc[:,8].isnull().values.any()"
   ]
  },
  {
   "cell_type": "code",
   "execution_count": 33,
   "id": "395be2ed",
   "metadata": {},
   "outputs": [],
   "source": [
    "# checking for any null value in duration column"
   ]
  },
  {
   "cell_type": "code",
   "execution_count": 34,
   "id": "dac1369f",
   "metadata": {},
   "outputs": [
    {
     "data": {
      "text/plain": [
       "False"
      ]
     },
     "execution_count": 34,
     "metadata": {},
     "output_type": "execute_result"
    }
   ],
   "source": [
    "bank_data.iloc[:,9].isnull().values.any()"
   ]
  },
  {
   "cell_type": "code",
   "execution_count": 35,
   "id": "b84ec841",
   "metadata": {},
   "outputs": [],
   "source": [
    "# checking for any null value in campaign column"
   ]
  },
  {
   "cell_type": "code",
   "execution_count": 36,
   "id": "58d189de",
   "metadata": {},
   "outputs": [
    {
     "data": {
      "text/plain": [
       "False"
      ]
     },
     "execution_count": 36,
     "metadata": {},
     "output_type": "execute_result"
    }
   ],
   "source": [
    "bank_data.iloc[:,10].isnull().values.any()"
   ]
  },
  {
   "cell_type": "code",
   "execution_count": 37,
   "id": "43ec0ef6",
   "metadata": {},
   "outputs": [],
   "source": [
    "# checking for any null value in pdays column \n",
    "#number of days that passed by after the client was last contacted from a previous campaign"
   ]
  },
  {
   "cell_type": "code",
   "execution_count": 38,
   "id": "8d913184",
   "metadata": {},
   "outputs": [
    {
     "data": {
      "text/plain": [
       "False"
      ]
     },
     "execution_count": 38,
     "metadata": {},
     "output_type": "execute_result"
    }
   ],
   "source": [
    "bank_data.iloc[:,11].isnull().values.any()"
   ]
  },
  {
   "cell_type": "code",
   "execution_count": 39,
   "id": "5d4a8f39",
   "metadata": {},
   "outputs": [],
   "source": [
    "# checking for any null value in previous column"
   ]
  },
  {
   "cell_type": "code",
   "execution_count": 40,
   "id": "78553ee1",
   "metadata": {},
   "outputs": [
    {
     "data": {
      "text/plain": [
       "False"
      ]
     },
     "execution_count": 40,
     "metadata": {},
     "output_type": "execute_result"
    }
   ],
   "source": [
    "bank_data.iloc[:,12].isnull().values.any()"
   ]
  },
  {
   "cell_type": "code",
   "execution_count": 41,
   "id": "59399edd",
   "metadata": {},
   "outputs": [],
   "source": [
    "#checking for any null value in target variable column"
   ]
  },
  {
   "cell_type": "code",
   "execution_count": 42,
   "id": "398737d5",
   "metadata": {},
   "outputs": [
    {
     "data": {
      "text/plain": [
       "no     38172\n",
       "yes     5021\n",
       "Name: y, dtype: int64"
      ]
     },
     "execution_count": 42,
     "metadata": {},
     "output_type": "execute_result"
    }
   ],
   "source": [
    "bank_data.iloc[:,13].value_counts()"
   ]
  },
  {
   "cell_type": "code",
   "execution_count": null,
   "id": "f481f02d",
   "metadata": {},
   "outputs": [],
   "source": []
  },
  {
   "cell_type": "code",
   "execution_count": 43,
   "id": "af27b8f4",
   "metadata": {},
   "outputs": [
    {
     "data": {
      "text/html": [
       "<div>\n",
       "<style scoped>\n",
       "    .dataframe tbody tr th:only-of-type {\n",
       "        vertical-align: middle;\n",
       "    }\n",
       "\n",
       "    .dataframe tbody tr th {\n",
       "        vertical-align: top;\n",
       "    }\n",
       "\n",
       "    .dataframe thead th {\n",
       "        text-align: right;\n",
       "    }\n",
       "</style>\n",
       "<table border=\"1\" class=\"dataframe\">\n",
       "  <thead>\n",
       "    <tr style=\"text-align: right;\">\n",
       "      <th></th>\n",
       "      <th>age</th>\n",
       "      <th>job</th>\n",
       "      <th>marital</th>\n",
       "      <th>education</th>\n",
       "      <th>credit</th>\n",
       "      <th>balance</th>\n",
       "      <th>housing</th>\n",
       "      <th>loan</th>\n",
       "      <th>day</th>\n",
       "      <th>duration</th>\n",
       "      <th>campaign</th>\n",
       "      <th>pdays</th>\n",
       "      <th>previous</th>\n",
       "      <th>y</th>\n",
       "    </tr>\n",
       "  </thead>\n",
       "  <tbody>\n",
       "    <tr>\n",
       "      <th>0</th>\n",
       "      <td>58</td>\n",
       "      <td>management</td>\n",
       "      <td>married</td>\n",
       "      <td>tertiary</td>\n",
       "      <td>no</td>\n",
       "      <td>2143</td>\n",
       "      <td>yes</td>\n",
       "      <td>no</td>\n",
       "      <td>5</td>\n",
       "      <td>261</td>\n",
       "      <td>1</td>\n",
       "      <td>-1</td>\n",
       "      <td>0</td>\n",
       "      <td>no</td>\n",
       "    </tr>\n",
       "    <tr>\n",
       "      <th>1</th>\n",
       "      <td>44</td>\n",
       "      <td>technician</td>\n",
       "      <td>single</td>\n",
       "      <td>secondary</td>\n",
       "      <td>no</td>\n",
       "      <td>29</td>\n",
       "      <td>yes</td>\n",
       "      <td>no</td>\n",
       "      <td>5</td>\n",
       "      <td>151</td>\n",
       "      <td>1</td>\n",
       "      <td>-1</td>\n",
       "      <td>0</td>\n",
       "      <td>no</td>\n",
       "    </tr>\n",
       "    <tr>\n",
       "      <th>2</th>\n",
       "      <td>33</td>\n",
       "      <td>entrepreneur</td>\n",
       "      <td>married</td>\n",
       "      <td>secondary</td>\n",
       "      <td>no</td>\n",
       "      <td>2</td>\n",
       "      <td>yes</td>\n",
       "      <td>yes</td>\n",
       "      <td>5</td>\n",
       "      <td>76</td>\n",
       "      <td>1</td>\n",
       "      <td>-1</td>\n",
       "      <td>0</td>\n",
       "      <td>no</td>\n",
       "    </tr>\n",
       "    <tr>\n",
       "      <th>5</th>\n",
       "      <td>35</td>\n",
       "      <td>management</td>\n",
       "      <td>married</td>\n",
       "      <td>tertiary</td>\n",
       "      <td>no</td>\n",
       "      <td>231</td>\n",
       "      <td>yes</td>\n",
       "      <td>no</td>\n",
       "      <td>5</td>\n",
       "      <td>139</td>\n",
       "      <td>1</td>\n",
       "      <td>-1</td>\n",
       "      <td>0</td>\n",
       "      <td>no</td>\n",
       "    </tr>\n",
       "    <tr>\n",
       "      <th>6</th>\n",
       "      <td>28</td>\n",
       "      <td>management</td>\n",
       "      <td>single</td>\n",
       "      <td>tertiary</td>\n",
       "      <td>no</td>\n",
       "      <td>447</td>\n",
       "      <td>yes</td>\n",
       "      <td>yes</td>\n",
       "      <td>5</td>\n",
       "      <td>217</td>\n",
       "      <td>1</td>\n",
       "      <td>-1</td>\n",
       "      <td>0</td>\n",
       "      <td>no</td>\n",
       "    </tr>\n",
       "  </tbody>\n",
       "</table>\n",
       "</div>"
      ],
      "text/plain": [
       "   age           job  marital  education credit  balance housing loan  day  \\\n",
       "0   58    management  married   tertiary     no     2143     yes   no    5   \n",
       "1   44    technician   single  secondary     no       29     yes   no    5   \n",
       "2   33  entrepreneur  married  secondary     no        2     yes  yes    5   \n",
       "5   35    management  married   tertiary     no      231     yes   no    5   \n",
       "6   28    management   single   tertiary     no      447     yes  yes    5   \n",
       "\n",
       "   duration  campaign  pdays  previous   y  \n",
       "0       261         1     -1         0  no  \n",
       "1       151         1     -1         0  no  \n",
       "2        76         1     -1         0  no  \n",
       "5       139         1     -1         0  no  \n",
       "6       217         1     -1         0  no  "
      ]
     },
     "execution_count": 43,
     "metadata": {},
     "output_type": "execute_result"
    }
   ],
   "source": [
    "bank_data.head()"
   ]
  },
  {
   "cell_type": "code",
   "execution_count": 44,
   "id": "7124549d",
   "metadata": {},
   "outputs": [
    {
     "data": {
      "text/html": [
       "<div>\n",
       "<style scoped>\n",
       "    .dataframe tbody tr th:only-of-type {\n",
       "        vertical-align: middle;\n",
       "    }\n",
       "\n",
       "    .dataframe tbody tr th {\n",
       "        vertical-align: top;\n",
       "    }\n",
       "\n",
       "    .dataframe thead th {\n",
       "        text-align: right;\n",
       "    }\n",
       "</style>\n",
       "<table border=\"1\" class=\"dataframe\">\n",
       "  <thead>\n",
       "    <tr style=\"text-align: right;\">\n",
       "      <th></th>\n",
       "      <th>age</th>\n",
       "      <th>job</th>\n",
       "      <th>marital</th>\n",
       "      <th>education</th>\n",
       "      <th>credit</th>\n",
       "      <th>balance</th>\n",
       "      <th>housing</th>\n",
       "      <th>loan</th>\n",
       "      <th>day</th>\n",
       "      <th>duration</th>\n",
       "      <th>campaign</th>\n",
       "      <th>pdays</th>\n",
       "      <th>previous</th>\n",
       "      <th>y</th>\n",
       "    </tr>\n",
       "  </thead>\n",
       "  <tbody>\n",
       "    <tr>\n",
       "      <th>45206</th>\n",
       "      <td>51</td>\n",
       "      <td>technician</td>\n",
       "      <td>married</td>\n",
       "      <td>tertiary</td>\n",
       "      <td>no</td>\n",
       "      <td>825</td>\n",
       "      <td>no</td>\n",
       "      <td>no</td>\n",
       "      <td>17</td>\n",
       "      <td>977</td>\n",
       "      <td>3</td>\n",
       "      <td>-1</td>\n",
       "      <td>0</td>\n",
       "      <td>yes</td>\n",
       "    </tr>\n",
       "    <tr>\n",
       "      <th>45207</th>\n",
       "      <td>71</td>\n",
       "      <td>retired</td>\n",
       "      <td>divorced</td>\n",
       "      <td>primary</td>\n",
       "      <td>no</td>\n",
       "      <td>1729</td>\n",
       "      <td>no</td>\n",
       "      <td>no</td>\n",
       "      <td>17</td>\n",
       "      <td>456</td>\n",
       "      <td>2</td>\n",
       "      <td>-1</td>\n",
       "      <td>0</td>\n",
       "      <td>yes</td>\n",
       "    </tr>\n",
       "    <tr>\n",
       "      <th>45208</th>\n",
       "      <td>72</td>\n",
       "      <td>retired</td>\n",
       "      <td>married</td>\n",
       "      <td>secondary</td>\n",
       "      <td>no</td>\n",
       "      <td>5715</td>\n",
       "      <td>no</td>\n",
       "      <td>no</td>\n",
       "      <td>17</td>\n",
       "      <td>1127</td>\n",
       "      <td>5</td>\n",
       "      <td>184</td>\n",
       "      <td>3</td>\n",
       "      <td>yes</td>\n",
       "    </tr>\n",
       "    <tr>\n",
       "      <th>45209</th>\n",
       "      <td>57</td>\n",
       "      <td>blue-collar</td>\n",
       "      <td>married</td>\n",
       "      <td>secondary</td>\n",
       "      <td>no</td>\n",
       "      <td>668</td>\n",
       "      <td>no</td>\n",
       "      <td>no</td>\n",
       "      <td>17</td>\n",
       "      <td>508</td>\n",
       "      <td>4</td>\n",
       "      <td>-1</td>\n",
       "      <td>0</td>\n",
       "      <td>no</td>\n",
       "    </tr>\n",
       "    <tr>\n",
       "      <th>45210</th>\n",
       "      <td>37</td>\n",
       "      <td>entrepreneur</td>\n",
       "      <td>married</td>\n",
       "      <td>secondary</td>\n",
       "      <td>no</td>\n",
       "      <td>2971</td>\n",
       "      <td>no</td>\n",
       "      <td>no</td>\n",
       "      <td>17</td>\n",
       "      <td>361</td>\n",
       "      <td>2</td>\n",
       "      <td>188</td>\n",
       "      <td>11</td>\n",
       "      <td>no</td>\n",
       "    </tr>\n",
       "  </tbody>\n",
       "</table>\n",
       "</div>"
      ],
      "text/plain": [
       "       age           job   marital  education credit  balance housing loan  \\\n",
       "45206   51    technician   married   tertiary     no      825      no   no   \n",
       "45207   71       retired  divorced    primary     no     1729      no   no   \n",
       "45208   72       retired   married  secondary     no     5715      no   no   \n",
       "45209   57   blue-collar   married  secondary     no      668      no   no   \n",
       "45210   37  entrepreneur   married  secondary     no     2971      no   no   \n",
       "\n",
       "       day  duration  campaign  pdays  previous    y  \n",
       "45206   17       977         3     -1         0  yes  \n",
       "45207   17       456         2     -1         0  yes  \n",
       "45208   17      1127         5    184         3  yes  \n",
       "45209   17       508         4     -1         0   no  \n",
       "45210   17       361         2    188        11   no  "
      ]
     },
     "execution_count": 44,
     "metadata": {},
     "output_type": "execute_result"
    }
   ],
   "source": [
    "bank_data.tail()"
   ]
  },
  {
   "cell_type": "code",
   "execution_count": 45,
   "id": "459e503f",
   "metadata": {},
   "outputs": [],
   "source": [
    "# Replacing the name of categorical variable in the column credit"
   ]
  },
  {
   "cell_type": "code",
   "execution_count": 46,
   "id": "617f346c",
   "metadata": {},
   "outputs": [],
   "source": [
    "bank_data['credit']=bank_data['credit'].replace(['yes','no'],['credit_yes','credit_no'])\n",
    "\n"
   ]
  },
  {
   "cell_type": "code",
   "execution_count": 47,
   "id": "b2063c86",
   "metadata": {},
   "outputs": [],
   "source": [
    "#Replacing the name of categorical variable in the column housing"
   ]
  },
  {
   "cell_type": "code",
   "execution_count": 48,
   "id": "8109780a",
   "metadata": {},
   "outputs": [],
   "source": [
    "bank_data['housing']=bank_data['housing'].replace(['yes','no'],['housing_yes','housing_no'])\n"
   ]
  },
  {
   "cell_type": "code",
   "execution_count": 49,
   "id": "5d5ce3a8",
   "metadata": {},
   "outputs": [],
   "source": [
    "#Replacing the name of categorical variable in the column loan"
   ]
  },
  {
   "cell_type": "code",
   "execution_count": 50,
   "id": "fe4fb56c",
   "metadata": {},
   "outputs": [],
   "source": [
    "bank_data['loan']=bank_data['loan'].replace(['yes','no'],['loan_yes','loan_no'])"
   ]
  },
  {
   "cell_type": "code",
   "execution_count": 51,
   "id": "e7088250",
   "metadata": {},
   "outputs": [
    {
     "data": {
      "text/html": [
       "<div>\n",
       "<style scoped>\n",
       "    .dataframe tbody tr th:only-of-type {\n",
       "        vertical-align: middle;\n",
       "    }\n",
       "\n",
       "    .dataframe tbody tr th {\n",
       "        vertical-align: top;\n",
       "    }\n",
       "\n",
       "    .dataframe thead th {\n",
       "        text-align: right;\n",
       "    }\n",
       "</style>\n",
       "<table border=\"1\" class=\"dataframe\">\n",
       "  <thead>\n",
       "    <tr style=\"text-align: right;\">\n",
       "      <th></th>\n",
       "      <th>age</th>\n",
       "      <th>job</th>\n",
       "      <th>marital</th>\n",
       "      <th>education</th>\n",
       "      <th>credit</th>\n",
       "      <th>balance</th>\n",
       "      <th>housing</th>\n",
       "      <th>loan</th>\n",
       "      <th>day</th>\n",
       "      <th>duration</th>\n",
       "      <th>campaign</th>\n",
       "      <th>pdays</th>\n",
       "      <th>previous</th>\n",
       "      <th>y</th>\n",
       "    </tr>\n",
       "  </thead>\n",
       "  <tbody>\n",
       "    <tr>\n",
       "      <th>0</th>\n",
       "      <td>58</td>\n",
       "      <td>management</td>\n",
       "      <td>married</td>\n",
       "      <td>tertiary</td>\n",
       "      <td>credit_no</td>\n",
       "      <td>2143</td>\n",
       "      <td>housing_yes</td>\n",
       "      <td>loan_no</td>\n",
       "      <td>5</td>\n",
       "      <td>261</td>\n",
       "      <td>1</td>\n",
       "      <td>-1</td>\n",
       "      <td>0</td>\n",
       "      <td>no</td>\n",
       "    </tr>\n",
       "    <tr>\n",
       "      <th>1</th>\n",
       "      <td>44</td>\n",
       "      <td>technician</td>\n",
       "      <td>single</td>\n",
       "      <td>secondary</td>\n",
       "      <td>credit_no</td>\n",
       "      <td>29</td>\n",
       "      <td>housing_yes</td>\n",
       "      <td>loan_no</td>\n",
       "      <td>5</td>\n",
       "      <td>151</td>\n",
       "      <td>1</td>\n",
       "      <td>-1</td>\n",
       "      <td>0</td>\n",
       "      <td>no</td>\n",
       "    </tr>\n",
       "    <tr>\n",
       "      <th>2</th>\n",
       "      <td>33</td>\n",
       "      <td>entrepreneur</td>\n",
       "      <td>married</td>\n",
       "      <td>secondary</td>\n",
       "      <td>credit_no</td>\n",
       "      <td>2</td>\n",
       "      <td>housing_yes</td>\n",
       "      <td>loan_yes</td>\n",
       "      <td>5</td>\n",
       "      <td>76</td>\n",
       "      <td>1</td>\n",
       "      <td>-1</td>\n",
       "      <td>0</td>\n",
       "      <td>no</td>\n",
       "    </tr>\n",
       "    <tr>\n",
       "      <th>5</th>\n",
       "      <td>35</td>\n",
       "      <td>management</td>\n",
       "      <td>married</td>\n",
       "      <td>tertiary</td>\n",
       "      <td>credit_no</td>\n",
       "      <td>231</td>\n",
       "      <td>housing_yes</td>\n",
       "      <td>loan_no</td>\n",
       "      <td>5</td>\n",
       "      <td>139</td>\n",
       "      <td>1</td>\n",
       "      <td>-1</td>\n",
       "      <td>0</td>\n",
       "      <td>no</td>\n",
       "    </tr>\n",
       "    <tr>\n",
       "      <th>6</th>\n",
       "      <td>28</td>\n",
       "      <td>management</td>\n",
       "      <td>single</td>\n",
       "      <td>tertiary</td>\n",
       "      <td>credit_no</td>\n",
       "      <td>447</td>\n",
       "      <td>housing_yes</td>\n",
       "      <td>loan_yes</td>\n",
       "      <td>5</td>\n",
       "      <td>217</td>\n",
       "      <td>1</td>\n",
       "      <td>-1</td>\n",
       "      <td>0</td>\n",
       "      <td>no</td>\n",
       "    </tr>\n",
       "    <tr>\n",
       "      <th>...</th>\n",
       "      <td>...</td>\n",
       "      <td>...</td>\n",
       "      <td>...</td>\n",
       "      <td>...</td>\n",
       "      <td>...</td>\n",
       "      <td>...</td>\n",
       "      <td>...</td>\n",
       "      <td>...</td>\n",
       "      <td>...</td>\n",
       "      <td>...</td>\n",
       "      <td>...</td>\n",
       "      <td>...</td>\n",
       "      <td>...</td>\n",
       "      <td>...</td>\n",
       "    </tr>\n",
       "    <tr>\n",
       "      <th>45206</th>\n",
       "      <td>51</td>\n",
       "      <td>technician</td>\n",
       "      <td>married</td>\n",
       "      <td>tertiary</td>\n",
       "      <td>credit_no</td>\n",
       "      <td>825</td>\n",
       "      <td>housing_no</td>\n",
       "      <td>loan_no</td>\n",
       "      <td>17</td>\n",
       "      <td>977</td>\n",
       "      <td>3</td>\n",
       "      <td>-1</td>\n",
       "      <td>0</td>\n",
       "      <td>yes</td>\n",
       "    </tr>\n",
       "    <tr>\n",
       "      <th>45207</th>\n",
       "      <td>71</td>\n",
       "      <td>retired</td>\n",
       "      <td>divorced</td>\n",
       "      <td>primary</td>\n",
       "      <td>credit_no</td>\n",
       "      <td>1729</td>\n",
       "      <td>housing_no</td>\n",
       "      <td>loan_no</td>\n",
       "      <td>17</td>\n",
       "      <td>456</td>\n",
       "      <td>2</td>\n",
       "      <td>-1</td>\n",
       "      <td>0</td>\n",
       "      <td>yes</td>\n",
       "    </tr>\n",
       "    <tr>\n",
       "      <th>45208</th>\n",
       "      <td>72</td>\n",
       "      <td>retired</td>\n",
       "      <td>married</td>\n",
       "      <td>secondary</td>\n",
       "      <td>credit_no</td>\n",
       "      <td>5715</td>\n",
       "      <td>housing_no</td>\n",
       "      <td>loan_no</td>\n",
       "      <td>17</td>\n",
       "      <td>1127</td>\n",
       "      <td>5</td>\n",
       "      <td>184</td>\n",
       "      <td>3</td>\n",
       "      <td>yes</td>\n",
       "    </tr>\n",
       "    <tr>\n",
       "      <th>45209</th>\n",
       "      <td>57</td>\n",
       "      <td>blue-collar</td>\n",
       "      <td>married</td>\n",
       "      <td>secondary</td>\n",
       "      <td>credit_no</td>\n",
       "      <td>668</td>\n",
       "      <td>housing_no</td>\n",
       "      <td>loan_no</td>\n",
       "      <td>17</td>\n",
       "      <td>508</td>\n",
       "      <td>4</td>\n",
       "      <td>-1</td>\n",
       "      <td>0</td>\n",
       "      <td>no</td>\n",
       "    </tr>\n",
       "    <tr>\n",
       "      <th>45210</th>\n",
       "      <td>37</td>\n",
       "      <td>entrepreneur</td>\n",
       "      <td>married</td>\n",
       "      <td>secondary</td>\n",
       "      <td>credit_no</td>\n",
       "      <td>2971</td>\n",
       "      <td>housing_no</td>\n",
       "      <td>loan_no</td>\n",
       "      <td>17</td>\n",
       "      <td>361</td>\n",
       "      <td>2</td>\n",
       "      <td>188</td>\n",
       "      <td>11</td>\n",
       "      <td>no</td>\n",
       "    </tr>\n",
       "  </tbody>\n",
       "</table>\n",
       "<p>43193 rows × 14 columns</p>\n",
       "</div>"
      ],
      "text/plain": [
       "       age           job   marital  education     credit  balance  \\\n",
       "0       58    management   married   tertiary  credit_no     2143   \n",
       "1       44    technician    single  secondary  credit_no       29   \n",
       "2       33  entrepreneur   married  secondary  credit_no        2   \n",
       "5       35    management   married   tertiary  credit_no      231   \n",
       "6       28    management    single   tertiary  credit_no      447   \n",
       "...    ...           ...       ...        ...        ...      ...   \n",
       "45206   51    technician   married   tertiary  credit_no      825   \n",
       "45207   71       retired  divorced    primary  credit_no     1729   \n",
       "45208   72       retired   married  secondary  credit_no     5715   \n",
       "45209   57   blue-collar   married  secondary  credit_no      668   \n",
       "45210   37  entrepreneur   married  secondary  credit_no     2971   \n",
       "\n",
       "           housing      loan  day  duration  campaign  pdays  previous    y  \n",
       "0      housing_yes   loan_no    5       261         1     -1         0   no  \n",
       "1      housing_yes   loan_no    5       151         1     -1         0   no  \n",
       "2      housing_yes  loan_yes    5        76         1     -1         0   no  \n",
       "5      housing_yes   loan_no    5       139         1     -1         0   no  \n",
       "6      housing_yes  loan_yes    5       217         1     -1         0   no  \n",
       "...            ...       ...  ...       ...       ...    ...       ...  ...  \n",
       "45206   housing_no   loan_no   17       977         3     -1         0  yes  \n",
       "45207   housing_no   loan_no   17       456         2     -1         0  yes  \n",
       "45208   housing_no   loan_no   17      1127         5    184         3  yes  \n",
       "45209   housing_no   loan_no   17       508         4     -1         0   no  \n",
       "45210   housing_no   loan_no   17       361         2    188        11   no  \n",
       "\n",
       "[43193 rows x 14 columns]"
      ]
     },
     "execution_count": 51,
     "metadata": {},
     "output_type": "execute_result"
    }
   ],
   "source": [
    "bank_data"
   ]
  },
  {
   "cell_type": "code",
   "execution_count": 52,
   "id": "89aa26c1",
   "metadata": {},
   "outputs": [],
   "source": [
    "# Reindexing "
   ]
  },
  {
   "cell_type": "code",
   "execution_count": 53,
   "id": "370b7e20",
   "metadata": {},
   "outputs": [
    {
     "name": "stdout",
     "output_type": "stream",
     "text": [
      "       age           job   marital  education     credit  balance  \\\n",
      "0       58    management   married   tertiary  credit_no     2143   \n",
      "1       44    technician    single  secondary  credit_no       29   \n",
      "2       33  entrepreneur   married  secondary  credit_no        2   \n",
      "3       35    management   married   tertiary  credit_no      231   \n",
      "4       28    management    single   tertiary  credit_no      447   \n",
      "...    ...           ...       ...        ...        ...      ...   \n",
      "43188   51    technician   married   tertiary  credit_no      825   \n",
      "43189   71       retired  divorced    primary  credit_no     1729   \n",
      "43190   72       retired   married  secondary  credit_no     5715   \n",
      "43191   57   blue-collar   married  secondary  credit_no      668   \n",
      "43192   37  entrepreneur   married  secondary  credit_no     2971   \n",
      "\n",
      "           housing      loan  day  duration  campaign  pdays  previous    y  \n",
      "0      housing_yes   loan_no    5       261         1     -1         0   no  \n",
      "1      housing_yes   loan_no    5       151         1     -1         0   no  \n",
      "2      housing_yes  loan_yes    5        76         1     -1         0   no  \n",
      "3      housing_yes   loan_no    5       139         1     -1         0   no  \n",
      "4      housing_yes  loan_yes    5       217         1     -1         0   no  \n",
      "...            ...       ...  ...       ...       ...    ...       ...  ...  \n",
      "43188   housing_no   loan_no   17       977         3     -1         0  yes  \n",
      "43189   housing_no   loan_no   17       456         2     -1         0  yes  \n",
      "43190   housing_no   loan_no   17      1127         5    184         3  yes  \n",
      "43191   housing_no   loan_no   17       508         4     -1         0   no  \n",
      "43192   housing_no   loan_no   17       361         2    188        11   no  \n",
      "\n",
      "[43193 rows x 14 columns]\n"
     ]
    }
   ],
   "source": [
    "bankdata = bank_data.reset_index(drop = True)       \n",
    "print(bankdata)  "
   ]
  },
  {
   "cell_type": "code",
   "execution_count": 54,
   "id": "87a08563",
   "metadata": {},
   "outputs": [
    {
     "data": {
      "text/html": [
       "<div>\n",
       "<style scoped>\n",
       "    .dataframe tbody tr th:only-of-type {\n",
       "        vertical-align: middle;\n",
       "    }\n",
       "\n",
       "    .dataframe tbody tr th {\n",
       "        vertical-align: top;\n",
       "    }\n",
       "\n",
       "    .dataframe thead th {\n",
       "        text-align: right;\n",
       "    }\n",
       "</style>\n",
       "<table border=\"1\" class=\"dataframe\">\n",
       "  <thead>\n",
       "    <tr style=\"text-align: right;\">\n",
       "      <th></th>\n",
       "      <th>age</th>\n",
       "      <th>job</th>\n",
       "      <th>marital</th>\n",
       "      <th>education</th>\n",
       "      <th>credit</th>\n",
       "      <th>balance</th>\n",
       "      <th>housing</th>\n",
       "      <th>loan</th>\n",
       "      <th>day</th>\n",
       "      <th>duration</th>\n",
       "      <th>campaign</th>\n",
       "      <th>pdays</th>\n",
       "      <th>previous</th>\n",
       "      <th>y</th>\n",
       "    </tr>\n",
       "  </thead>\n",
       "  <tbody>\n",
       "    <tr>\n",
       "      <th>0</th>\n",
       "      <td>58</td>\n",
       "      <td>management</td>\n",
       "      <td>married</td>\n",
       "      <td>tertiary</td>\n",
       "      <td>credit_no</td>\n",
       "      <td>2143</td>\n",
       "      <td>housing_yes</td>\n",
       "      <td>loan_no</td>\n",
       "      <td>5</td>\n",
       "      <td>261</td>\n",
       "      <td>1</td>\n",
       "      <td>-1</td>\n",
       "      <td>0</td>\n",
       "      <td>no</td>\n",
       "    </tr>\n",
       "    <tr>\n",
       "      <th>1</th>\n",
       "      <td>44</td>\n",
       "      <td>technician</td>\n",
       "      <td>single</td>\n",
       "      <td>secondary</td>\n",
       "      <td>credit_no</td>\n",
       "      <td>29</td>\n",
       "      <td>housing_yes</td>\n",
       "      <td>loan_no</td>\n",
       "      <td>5</td>\n",
       "      <td>151</td>\n",
       "      <td>1</td>\n",
       "      <td>-1</td>\n",
       "      <td>0</td>\n",
       "      <td>no</td>\n",
       "    </tr>\n",
       "    <tr>\n",
       "      <th>2</th>\n",
       "      <td>33</td>\n",
       "      <td>entrepreneur</td>\n",
       "      <td>married</td>\n",
       "      <td>secondary</td>\n",
       "      <td>credit_no</td>\n",
       "      <td>2</td>\n",
       "      <td>housing_yes</td>\n",
       "      <td>loan_yes</td>\n",
       "      <td>5</td>\n",
       "      <td>76</td>\n",
       "      <td>1</td>\n",
       "      <td>-1</td>\n",
       "      <td>0</td>\n",
       "      <td>no</td>\n",
       "    </tr>\n",
       "    <tr>\n",
       "      <th>3</th>\n",
       "      <td>35</td>\n",
       "      <td>management</td>\n",
       "      <td>married</td>\n",
       "      <td>tertiary</td>\n",
       "      <td>credit_no</td>\n",
       "      <td>231</td>\n",
       "      <td>housing_yes</td>\n",
       "      <td>loan_no</td>\n",
       "      <td>5</td>\n",
       "      <td>139</td>\n",
       "      <td>1</td>\n",
       "      <td>-1</td>\n",
       "      <td>0</td>\n",
       "      <td>no</td>\n",
       "    </tr>\n",
       "    <tr>\n",
       "      <th>4</th>\n",
       "      <td>28</td>\n",
       "      <td>management</td>\n",
       "      <td>single</td>\n",
       "      <td>tertiary</td>\n",
       "      <td>credit_no</td>\n",
       "      <td>447</td>\n",
       "      <td>housing_yes</td>\n",
       "      <td>loan_yes</td>\n",
       "      <td>5</td>\n",
       "      <td>217</td>\n",
       "      <td>1</td>\n",
       "      <td>-1</td>\n",
       "      <td>0</td>\n",
       "      <td>no</td>\n",
       "    </tr>\n",
       "  </tbody>\n",
       "</table>\n",
       "</div>"
      ],
      "text/plain": [
       "   age           job  marital  education     credit  balance      housing  \\\n",
       "0   58    management  married   tertiary  credit_no     2143  housing_yes   \n",
       "1   44    technician   single  secondary  credit_no       29  housing_yes   \n",
       "2   33  entrepreneur  married  secondary  credit_no        2  housing_yes   \n",
       "3   35    management  married   tertiary  credit_no      231  housing_yes   \n",
       "4   28    management   single   tertiary  credit_no      447  housing_yes   \n",
       "\n",
       "       loan  day  duration  campaign  pdays  previous   y  \n",
       "0   loan_no    5       261         1     -1         0  no  \n",
       "1   loan_no    5       151         1     -1         0  no  \n",
       "2  loan_yes    5        76         1     -1         0  no  \n",
       "3   loan_no    5       139         1     -1         0  no  \n",
       "4  loan_yes    5       217         1     -1         0  no  "
      ]
     },
     "execution_count": 54,
     "metadata": {},
     "output_type": "execute_result"
    }
   ],
   "source": [
    "bankdata.head()"
   ]
  },
  {
   "cell_type": "code",
   "execution_count": 55,
   "id": "27fc7a15",
   "metadata": {},
   "outputs": [
    {
     "data": {
      "text/html": [
       "<div>\n",
       "<style scoped>\n",
       "    .dataframe tbody tr th:only-of-type {\n",
       "        vertical-align: middle;\n",
       "    }\n",
       "\n",
       "    .dataframe tbody tr th {\n",
       "        vertical-align: top;\n",
       "    }\n",
       "\n",
       "    .dataframe thead th {\n",
       "        text-align: right;\n",
       "    }\n",
       "</style>\n",
       "<table border=\"1\" class=\"dataframe\">\n",
       "  <thead>\n",
       "    <tr style=\"text-align: right;\">\n",
       "      <th></th>\n",
       "      <th>age</th>\n",
       "      <th>job</th>\n",
       "      <th>marital</th>\n",
       "      <th>education</th>\n",
       "      <th>credit</th>\n",
       "      <th>balance</th>\n",
       "      <th>housing</th>\n",
       "      <th>loan</th>\n",
       "      <th>day</th>\n",
       "      <th>duration</th>\n",
       "      <th>campaign</th>\n",
       "      <th>pdays</th>\n",
       "      <th>previous</th>\n",
       "      <th>y</th>\n",
       "    </tr>\n",
       "  </thead>\n",
       "  <tbody>\n",
       "    <tr>\n",
       "      <th>43188</th>\n",
       "      <td>51</td>\n",
       "      <td>technician</td>\n",
       "      <td>married</td>\n",
       "      <td>tertiary</td>\n",
       "      <td>credit_no</td>\n",
       "      <td>825</td>\n",
       "      <td>housing_no</td>\n",
       "      <td>loan_no</td>\n",
       "      <td>17</td>\n",
       "      <td>977</td>\n",
       "      <td>3</td>\n",
       "      <td>-1</td>\n",
       "      <td>0</td>\n",
       "      <td>yes</td>\n",
       "    </tr>\n",
       "    <tr>\n",
       "      <th>43189</th>\n",
       "      <td>71</td>\n",
       "      <td>retired</td>\n",
       "      <td>divorced</td>\n",
       "      <td>primary</td>\n",
       "      <td>credit_no</td>\n",
       "      <td>1729</td>\n",
       "      <td>housing_no</td>\n",
       "      <td>loan_no</td>\n",
       "      <td>17</td>\n",
       "      <td>456</td>\n",
       "      <td>2</td>\n",
       "      <td>-1</td>\n",
       "      <td>0</td>\n",
       "      <td>yes</td>\n",
       "    </tr>\n",
       "    <tr>\n",
       "      <th>43190</th>\n",
       "      <td>72</td>\n",
       "      <td>retired</td>\n",
       "      <td>married</td>\n",
       "      <td>secondary</td>\n",
       "      <td>credit_no</td>\n",
       "      <td>5715</td>\n",
       "      <td>housing_no</td>\n",
       "      <td>loan_no</td>\n",
       "      <td>17</td>\n",
       "      <td>1127</td>\n",
       "      <td>5</td>\n",
       "      <td>184</td>\n",
       "      <td>3</td>\n",
       "      <td>yes</td>\n",
       "    </tr>\n",
       "    <tr>\n",
       "      <th>43191</th>\n",
       "      <td>57</td>\n",
       "      <td>blue-collar</td>\n",
       "      <td>married</td>\n",
       "      <td>secondary</td>\n",
       "      <td>credit_no</td>\n",
       "      <td>668</td>\n",
       "      <td>housing_no</td>\n",
       "      <td>loan_no</td>\n",
       "      <td>17</td>\n",
       "      <td>508</td>\n",
       "      <td>4</td>\n",
       "      <td>-1</td>\n",
       "      <td>0</td>\n",
       "      <td>no</td>\n",
       "    </tr>\n",
       "    <tr>\n",
       "      <th>43192</th>\n",
       "      <td>37</td>\n",
       "      <td>entrepreneur</td>\n",
       "      <td>married</td>\n",
       "      <td>secondary</td>\n",
       "      <td>credit_no</td>\n",
       "      <td>2971</td>\n",
       "      <td>housing_no</td>\n",
       "      <td>loan_no</td>\n",
       "      <td>17</td>\n",
       "      <td>361</td>\n",
       "      <td>2</td>\n",
       "      <td>188</td>\n",
       "      <td>11</td>\n",
       "      <td>no</td>\n",
       "    </tr>\n",
       "  </tbody>\n",
       "</table>\n",
       "</div>"
      ],
      "text/plain": [
       "       age           job   marital  education     credit  balance     housing  \\\n",
       "43188   51    technician   married   tertiary  credit_no      825  housing_no   \n",
       "43189   71       retired  divorced    primary  credit_no     1729  housing_no   \n",
       "43190   72       retired   married  secondary  credit_no     5715  housing_no   \n",
       "43191   57   blue-collar   married  secondary  credit_no      668  housing_no   \n",
       "43192   37  entrepreneur   married  secondary  credit_no     2971  housing_no   \n",
       "\n",
       "          loan  day  duration  campaign  pdays  previous    y  \n",
       "43188  loan_no   17       977         3     -1         0  yes  \n",
       "43189  loan_no   17       456         2     -1         0  yes  \n",
       "43190  loan_no   17      1127         5    184         3  yes  \n",
       "43191  loan_no   17       508         4     -1         0   no  \n",
       "43192  loan_no   17       361         2    188        11   no  "
      ]
     },
     "execution_count": 55,
     "metadata": {},
     "output_type": "execute_result"
    }
   ],
   "source": [
    "bankdata.tail()"
   ]
  },
  {
   "cell_type": "code",
   "execution_count": 56,
   "id": "89f4bb79",
   "metadata": {},
   "outputs": [],
   "source": [
    "# bankdata.describe(include='all')"
   ]
  },
  {
   "cell_type": "code",
   "execution_count": 57,
   "id": "6dc7c08f",
   "metadata": {},
   "outputs": [],
   "source": [
    "# Age Distribution "
   ]
  },
  {
   "cell_type": "code",
   "execution_count": 58,
   "id": "d7888056",
   "metadata": {},
   "outputs": [
    {
     "data": {
      "image/png": "[encoded data removed]",
      "text/plain": [
       "<Figure size 3600x720 with 1 Axes>"
      ]
     },
     "metadata": {
      "needs_background": "light"
     },
     "output_type": "display_data"
    }
   ],
   "source": [
    "fig,ax = plt.subplots()\n",
    "fig.set_size_inches(50,10)\n",
    "sns.countplot(x = 'age', data = bankdata)\n",
    "ax.set_xlabel('Age', fontsize=16)\n",
    "ax.set_ylabel('Count', fontsize=16)\n",
    "ax.set_title('Age Distribution', fontsize=16)\n",
    "ax.tick_params(labelsize=16)\n",
    "sns.despine()"
   ]
  },
  {
   "cell_type": "code",
   "execution_count": 59,
   "id": "5a7e3778",
   "metadata": {},
   "outputs": [],
   "source": [
    "# Age Distribution and relationship with y"
   ]
  },
  {
   "cell_type": "code",
   "execution_count": 60,
   "id": "283e753f",
   "metadata": {},
   "outputs": [
    {
     "data": {
      "image/png": "[encoded data removed]",
      "text/plain": [
       "<Figure size 3600x720 with 1 Axes>"
      ]
     },
     "metadata": {
      "needs_background": "light"
     },
     "output_type": "display_data"
    }
   ],
   "source": [
    "fig,ax = plt.subplots()\n",
    "fig.set_size_inches(50,10)\n",
    "sns.countplot(x = 'age',hue='y' ,data = bankdata)\n",
    "ax.set_xlabel('Age', fontsize=16)\n",
    "ax.set_ylabel('Count', fontsize=16)\n",
    "ax.set_title('Age Distribution', fontsize=16)\n",
    "ax.tick_params(labelsize=16)\n",
    "sns.despine()\n",
    "\n"
   ]
  },
  {
   "cell_type": "code",
   "execution_count": 61,
   "id": "ad438c9e",
   "metadata": {},
   "outputs": [],
   "source": [
    "# balance\n"
   ]
  },
  {
   "cell_type": "code",
   "execution_count": 62,
   "id": "e0801db3",
   "metadata": {},
   "outputs": [
    {
     "data": {
      "image/png": "[encoded data removed]",
      "text/plain": [
       "<Figure size 3600x720 with 1 Axes>"
      ]
     },
     "metadata": {
      "needs_background": "light"
     },
     "output_type": "display_data"
    }
   ],
   "source": [
    "fig,ax = plt.subplots()\n",
    "fig.set_size_inches(50,10)\n",
    "sns.countplot(x = 'age', data = bankdata)\n",
    "ax.set_xlabel('balance', fontsize=16)\n",
    "ax.set_ylabel('Count', fontsize=16)\n",
    "ax.set_title('balance Distribution', fontsize=16)\n",
    "ax.tick_params(labelsize=16)\n",
    "sns.despine()"
   ]
  },
  {
   "cell_type": "code",
   "execution_count": null,
   "id": "808f453b",
   "metadata": {},
   "outputs": [],
   "source": []
  },
  {
   "cell_type": "code",
   "execution_count": null,
   "id": "487d3733",
   "metadata": {},
   "outputs": [],
   "source": []
  },
  {
   "cell_type": "code",
   "execution_count": 63,
   "id": "16462a5d",
   "metadata": {},
   "outputs": [
    {
     "name": "stderr",
     "output_type": "stream",
     "text": [
      "C:\\Program Files\\ArcGIS\\Pro\\bin\\Python\\envs\\arcgispro-py3\\lib\\site-packages\\ipykernel_launcher.py:1: UserWarning: \n",
      "\n",
      "`distplot` is a deprecated function and will be removed in seaborn v0.14.0.\n",
      "\n",
      "Please adapt your code to use either `displot` (a figure-level function with\n",
      "similar flexibility) or `histplot` (an axes-level function for histograms).\n",
      "\n",
      "For a guide to updating your code to use the new functions, please see\n",
      "https://gist.github.com/mwaskom/de44147ed2974457ad6372750bbe5751\n",
      "\n",
      "  \"\"\"Entry point for launching an IPython kernel.\n"
     ]
    },
    {
     "data": {
      "text/plain": [
       "<AxesSubplot:ylabel='Density'>"
      ]
     },
     "execution_count": 63,
     "metadata": {},
     "output_type": "execute_result"
    },
    {
     "data": {
      "image/png": "[encoded data removed]",
      "text/plain": [
       "<Figure size 432x288 with 1 Axes>"
      ]
     },
     "metadata": {
      "needs_background": "light"
     },
     "output_type": "display_data"
    }
   ],
   "source": [
    "sns.distplot(x=bankdata['age'])"
   ]
  },
  {
   "cell_type": "code",
   "execution_count": 64,
   "id": "f3cde82f",
   "metadata": {},
   "outputs": [],
   "source": [
    "#  Job distribution of clients "
   ]
  },
  {
   "cell_type": "code",
   "execution_count": 65,
   "id": "7bf20a5c",
   "metadata": {},
   "outputs": [
    {
     "data": {
      "image/png": "[encoded data removed]",
      "text/plain": [
       "<Figure size 1800x720 with 1 Axes>"
      ]
     },
     "metadata": {
      "needs_background": "light"
     },
     "output_type": "display_data"
    }
   ],
   "source": [
    "fig,ax = plt.subplots()\n",
    "fig.set_size_inches(25,10)\n",
    "sns.countplot(x = 'job', data = bankdata)\n",
    "ax.set_xlabel('Job', fontsize=16)\n",
    "ax.set_ylabel('Count', fontsize=16)\n",
    "ax.set_title(' Job Distribution', fontsize=16)\n",
    "ax.tick_params(labelsize=16)\n",
    "sns.despine()"
   ]
  },
  {
   "cell_type": "code",
   "execution_count": 66,
   "id": "1f12c3c6",
   "metadata": {},
   "outputs": [],
   "source": [
    "# Job Distribution and relationship with y"
   ]
  },
  {
   "cell_type": "code",
   "execution_count": 67,
   "id": "c50e0863",
   "metadata": {},
   "outputs": [
    {
     "data": {
      "image/png": "[encoded data removed]",
      "text/plain": [
       "<Figure size 1800x720 with 1 Axes>"
      ]
     },
     "metadata": {
      "needs_background": "light"
     },
     "output_type": "display_data"
    }
   ],
   "source": [
    "fig,ax = plt.subplots()\n",
    "fig.set_size_inches(25,10)\n",
    "sns.countplot(x = 'job',hue='y', data = bankdata)\n",
    "ax.set_xlabel('Job', fontsize=16)\n",
    "ax.set_ylabel('Count', fontsize=16)\n",
    "ax.set_title(' Job Distribution', fontsize=16)\n",
    "ax.tick_params(labelsize=16)\n",
    "sns.despine()"
   ]
  },
  {
   "cell_type": "code",
   "execution_count": 68,
   "id": "aef61fe8",
   "metadata": {},
   "outputs": [],
   "source": [
    "#  Marital status Distribution of clients"
   ]
  },
  {
   "cell_type": "code",
   "execution_count": 69,
   "id": "4c44cb93",
   "metadata": {},
   "outputs": [
    {
     "data": {
      "image/png": "[encoded data removed]",
      "text/plain": [
       "<Figure size 576x360 with 1 Axes>"
      ]
     },
     "metadata": {
      "needs_background": "light"
     },
     "output_type": "display_data"
    }
   ],
   "source": [
    "fig,ax = plt.subplots()\n",
    "fig.set_size_inches(8,5)\n",
    "sns.countplot(x = 'marital', data = bankdata)\n",
    "ax.set_xlabel('Marital', fontsize=16)\n",
    "ax.set_ylabel('Count', fontsize=16)\n",
    "ax.set_title('Marital Status', fontsize=16)\n",
    "ax.tick_params(labelsize=16)\n",
    "sns.despine()"
   ]
  },
  {
   "cell_type": "code",
   "execution_count": 70,
   "id": "fcea3745",
   "metadata": {},
   "outputs": [],
   "source": [
    "# Marital status Distribution and relationship with y"
   ]
  },
  {
   "cell_type": "code",
   "execution_count": 71,
   "id": "20eeb13d",
   "metadata": {},
   "outputs": [
    {
     "data": {
      "image/png": "[encoded data removed]",
      "text/plain": [
       "<Figure size 576x360 with 1 Axes>"
      ]
     },
     "metadata": {
      "needs_background": "light"
     },
     "output_type": "display_data"
    }
   ],
   "source": [
    "fig,ax = plt.subplots()\n",
    "fig.set_size_inches(8,5)\n",
    "sns.countplot(x = 'marital',hue='y',data = bankdata)\n",
    "ax.set_xlabel('Marital', fontsize=16)\n",
    "ax.set_ylabel('Count', fontsize=16)\n",
    "ax.set_title('Marital Status', fontsize=16)\n",
    "ax.tick_params(labelsize=16)\n",
    "sns.despine()"
   ]
  },
  {
   "cell_type": "code",
   "execution_count": 72,
   "id": "21711d2c",
   "metadata": {},
   "outputs": [],
   "source": [
    "# Education Distribution"
   ]
  },
  {
   "cell_type": "code",
   "execution_count": 73,
   "id": "8b4b77c7",
   "metadata": {},
   "outputs": [
    {
     "data": {
      "image/png": "[encoded data removed]",
      "text/plain": [
       "<Figure size 576x360 with 1 Axes>"
      ]
     },
     "metadata": {
      "needs_background": "light"
     },
     "output_type": "display_data"
    }
   ],
   "source": [
    "fig,ax = plt.subplots()\n",
    "fig.set_size_inches(8,5)\n",
    "sns.countplot(x = 'education', data = bankdata)\n",
    "ax.set_xlabel('Education Status', fontsize=16)\n",
    "ax.set_ylabel('Count', fontsize=16)\n",
    "ax.set_title('Education Qualification', fontsize=16)\n",
    "ax.tick_params(labelsize=16)\n",
    "sns.despine()"
   ]
  },
  {
   "cell_type": "code",
   "execution_count": 74,
   "id": "df55ddb6",
   "metadata": {},
   "outputs": [],
   "source": [
    "# Education Distribution and relationship with y"
   ]
  },
  {
   "cell_type": "code",
   "execution_count": 75,
   "id": "458bd6b3",
   "metadata": {},
   "outputs": [
    {
     "data": {
      "image/png": "[encoded data removed]",
      "text/plain": [
       "<Figure size 576x360 with 1 Axes>"
      ]
     },
     "metadata": {
      "needs_background": "light"
     },
     "output_type": "display_data"
    }
   ],
   "source": [
    "fig,ax = plt.subplots()\n",
    "fig.set_size_inches(8,5)\n",
    "sns.countplot(x = 'education',hue='y', data = bankdata)\n",
    "ax.set_xlabel('Education Status', fontsize=16)\n",
    "ax.set_ylabel('Count', fontsize=16)\n",
    "ax.set_title('Education Qualification', fontsize=16)\n",
    "ax.tick_params(labelsize=16)\n",
    "sns.despine()"
   ]
  },
  {
   "cell_type": "code",
   "execution_count": 76,
   "id": "3e89c8ca",
   "metadata": {},
   "outputs": [],
   "source": [
    "# Credit Distribution"
   ]
  },
  {
   "cell_type": "code",
   "execution_count": 77,
   "id": "54fc7759",
   "metadata": {},
   "outputs": [
    {
     "data": {
      "image/png": "[encoded data removed]",
      "text/plain": [
       "<Figure size 576x360 with 1 Axes>"
      ]
     },
     "metadata": {
      "needs_background": "light"
     },
     "output_type": "display_data"
    }
   ],
   "source": [
    "fig,ax = plt.subplots()\n",
    "fig.set_size_inches(8,5)\n",
    "sns.countplot(x = 'credit', data = bankdata)\n",
    "ax.set_xlabel('Has credit or not', fontsize=16)\n",
    "ax.set_ylabel('Count', fontsize=16)\n",
    "ax.set_title('Credit Distribution', fontsize=16)\n",
    "ax.tick_params(labelsize=16)\n",
    "sns.despine()"
   ]
  },
  {
   "cell_type": "code",
   "execution_count": 78,
   "id": "29b3eb45",
   "metadata": {},
   "outputs": [],
   "source": [
    "# Credit Distribution and relationship with y"
   ]
  },
  {
   "cell_type": "code",
   "execution_count": 79,
   "id": "cbbe2551",
   "metadata": {},
   "outputs": [
    {
     "data": {
      "image/png": "[encoded data removed]",
      "text/plain": [
       "<Figure size 576x360 with 1 Axes>"
      ]
     },
     "metadata": {
      "needs_background": "light"
     },
     "output_type": "display_data"
    }
   ],
   "source": [
    "fig,ax = plt.subplots()\n",
    "fig.set_size_inches(8,5)\n",
    "sns.countplot(x = 'credit',hue='y', data = bankdata)\n",
    "ax.set_xlabel('Has credit or not', fontsize=16)\n",
    "ax.set_ylabel('Count', fontsize=16)\n",
    "ax.set_title('Credit Distribution', fontsize=16)\n",
    "ax.tick_params(labelsize=16)\n",
    "sns.despine()"
   ]
  },
  {
   "cell_type": "code",
   "execution_count": 80,
   "id": "87d9e633",
   "metadata": {},
   "outputs": [],
   "source": [
    "# Housing Distribution: has housing loan or not "
   ]
  },
  {
   "cell_type": "code",
   "execution_count": 81,
   "id": "9fce5878",
   "metadata": {},
   "outputs": [
    {
     "data": {
      "image/png": "[encoded data removed]",
      "text/plain": [
       "<Figure size 576x360 with 1 Axes>"
      ]
     },
     "metadata": {
      "needs_background": "light"
     },
     "output_type": "display_data"
    }
   ],
   "source": [
    "fig,ax = plt.subplots()\n",
    "fig.set_size_inches(8,5)\n",
    "sns.countplot(x = 'housing', data = bankdata)\n",
    "ax.set_xlabel('Has housing loan or not', fontsize=16)\n",
    "ax.set_ylabel('Count', fontsize=16)\n",
    "ax.set_title('Housing Distribution', fontsize=16)\n",
    "ax.tick_params(labelsize=16)\n",
    "sns.despine()"
   ]
  },
  {
   "cell_type": "code",
   "execution_count": 82,
   "id": "2a1aefc0",
   "metadata": {},
   "outputs": [],
   "source": [
    "# Housing Distribution and relationship with y"
   ]
  },
  {
   "cell_type": "code",
   "execution_count": 83,
   "id": "95033d70",
   "metadata": {},
   "outputs": [
    {
     "data": {
      "image/png": "[encoded data removed]",
      "text/plain": [
       "<Figure size 576x360 with 1 Axes>"
      ]
     },
     "metadata": {
      "needs_background": "light"
     },
     "output_type": "display_data"
    }
   ],
   "source": [
    "fig,ax = plt.subplots()\n",
    "fig.set_size_inches(8,5)\n",
    "sns.countplot(x = 'housing',hue='y', data = bankdata)\n",
    "ax.set_xlabel('Has housing loan or not', fontsize=16)\n",
    "ax.set_ylabel('Count', fontsize=16)\n",
    "ax.set_title('Housing Distribution', fontsize=16)\n",
    "ax.tick_params(labelsize=16)\n",
    "sns.despine()"
   ]
  },
  {
   "cell_type": "code",
   "execution_count": null,
   "id": "5000c9ce",
   "metadata": {},
   "outputs": [],
   "source": []
  },
  {
   "cell_type": "code",
   "execution_count": 84,
   "id": "cb6f6d61",
   "metadata": {},
   "outputs": [],
   "source": [
    " # Distribution of loan: has personal loan or not"
   ]
  },
  {
   "cell_type": "code",
   "execution_count": 85,
   "id": "dfda5490",
   "metadata": {},
   "outputs": [
    {
     "data": {
      "image/png": "[encoded data removed]",
      "text/plain": [
       "<Figure size 576x360 with 1 Axes>"
      ]
     },
     "metadata": {
      "needs_background": "light"
     },
     "output_type": "display_data"
    }
   ],
   "source": [
    "fig,ax = plt.subplots()\n",
    "fig.set_size_inches(8,5)\n",
    "sns.countplot(x = 'loan', data = bankdata)\n",
    "ax.set_xlabel('Has personal loan or not', fontsize=16)\n",
    "ax.set_ylabel('Count', fontsize=16)\n",
    "ax.set_title('Loan Distribution', fontsize=16)\n",
    "ax.tick_params(labelsize=16)\n",
    "sns.despine()"
   ]
  },
  {
   "cell_type": "code",
   "execution_count": 86,
   "id": "2391b63b",
   "metadata": {},
   "outputs": [],
   "source": [
    "# Distribution of loan and relationship with y"
   ]
  },
  {
   "cell_type": "code",
   "execution_count": 87,
   "id": "0a608948",
   "metadata": {},
   "outputs": [
    {
     "data": {
      "image/png": "[encoded data removed]",
      "text/plain": [
       "<Figure size 576x360 with 1 Axes>"
      ]
     },
     "metadata": {
      "needs_background": "light"
     },
     "output_type": "display_data"
    }
   ],
   "source": [
    "fig,ax = plt.subplots()\n",
    "fig.set_size_inches(8,5)\n",
    "sns.countplot(x = 'loan', hue='y',data = bankdata)\n",
    "ax.set_xlabel('Has personal loan or not', fontsize=16)\n",
    "ax.set_ylabel('Count', fontsize=16)\n",
    "ax.set_title('Loan Distribution', fontsize=16)\n",
    "ax.tick_params(labelsize=16)\n",
    "sns.despine()"
   ]
  },
  {
   "cell_type": "code",
   "execution_count": null,
   "id": "2d148478",
   "metadata": {},
   "outputs": [],
   "source": []
  },
  {
   "cell_type": "code",
   "execution_count": 88,
   "id": "73491972",
   "metadata": {},
   "outputs": [],
   "source": [
    "# Distribution of target variable:subscription to term deposit"
   ]
  },
  {
   "cell_type": "code",
   "execution_count": 89,
   "id": "1803fbd2",
   "metadata": {},
   "outputs": [
    {
     "data": {
      "image/png": "[encoded data removed]",
      "text/plain": [
       "<Figure size 576x360 with 1 Axes>"
      ]
     },
     "metadata": {
      "needs_background": "light"
     },
     "output_type": "display_data"
    }
   ],
   "source": [
    "\n",
    "fig,ax = plt.subplots()\n",
    "fig.set_size_inches(8,5)\n",
    "sns.countplot(x = 'y', data = bankdata)\n",
    "ax.set_xlabel('Subscription to term deposit', fontsize=16)\n",
    "ax.set_ylabel('Count', fontsize=16)\n",
    "ax.set_title('Distribution of target variable', fontsize=16)\n",
    "ax.tick_params(labelsize=16)\n",
    "sns.despine()"
   ]
  },
  {
   "cell_type": "code",
   "execution_count": 90,
   "id": "c9b89afc",
   "metadata": {},
   "outputs": [],
   "source": [
    "#sns.lineplot(data=bankdata,x='day',y='count',hue='y')"
   ]
  },
  {
   "cell_type": "code",
   "execution_count": 91,
   "id": "9d0d5f6c",
   "metadata": {},
   "outputs": [],
   "source": [
    "#plt.plot(year, gdp)\n",
    "#plt.grid(True)"
   ]
  },
  {
   "cell_type": "code",
   "execution_count": null,
   "id": "cdc616de",
   "metadata": {},
   "outputs": [],
   "source": []
  },
  {
   "cell_type": "code",
   "execution_count": 92,
   "id": "d712810e",
   "metadata": {},
   "outputs": [],
   "source": [
    "# Age distrtibution of people who had subscribed a term deposit or not"
   ]
  },
  {
   "cell_type": "code",
   "execution_count": 93,
   "id": "2099be0c",
   "metadata": {},
   "outputs": [
    {
     "data": {
      "text/plain": [
       "<AxesSubplot:title={'center':'Subscription of term deposit based on age'}, xlabel='age', ylabel='Count'>"
      ]
     },
     "execution_count": 93,
     "metadata": {},
     "output_type": "execute_result"
    },
    {
     "data": {
      "image/png": "[encoded data removed]",
      "text/plain": [
       "<Figure size 720x360 with 1 Axes>"
      ]
     },
     "metadata": {
      "needs_background": "light"
     },
     "output_type": "display_data"
    }
   ],
   "source": [
    "plt.figure(figsize=(10,5))\n",
    "plt.title('Subscription of term deposit based on age')\n",
    "sns.histplot(x='age',hue='y',data=bankdata)"
   ]
  },
  {
   "cell_type": "code",
   "execution_count": 94,
   "id": "b891c3fe",
   "metadata": {},
   "outputs": [],
   "source": [
    "# Heat Map"
   ]
  },
  {
   "cell_type": "code",
   "execution_count": 95,
   "id": "0a603157",
   "metadata": {},
   "outputs": [
    {
     "data": {
      "image/png": "[encoded data removed]",
      "text/plain": [
       "<Figure size 576x576 with 2 Axes>"
      ]
     },
     "metadata": {
      "needs_background": "light"
     },
     "output_type": "display_data"
    }
   ],
   "source": [
    "correlation = abs(round(bankdata.corr(), 2))\n",
    "f, ax = plt.subplots(figsize=(8,8))\n",
    "sns.heatmap(correlation, annot= True,square= True, cmap =sns.diverging_palette(220, 10, as_cmap=True))\n",
    "plt.title('Correlation Heatmap',fontweight='bold',fontsize=15)\n",
    "plt.show();"
   ]
  },
  {
   "cell_type": "code",
   "execution_count": 96,
   "id": "661eb178",
   "metadata": {},
   "outputs": [],
   "source": [
    "from sklearn import preprocessing\n"
   ]
  },
  {
   "cell_type": "code",
   "execution_count": 97,
   "id": "fdd0a1e9",
   "metadata": {},
   "outputs": [
    {
     "data": {
      "text/plain": [
       "array([[0., 0., 0., ..., 1., 0., 0.],\n",
       "       [0., 0., 0., ..., 1., 0., 0.],\n",
       "       [0., 1., 0., ..., 1., 1., 0.],\n",
       "       ...,\n",
       "       [0., 0., 0., ..., 0., 0., 1.],\n",
       "       [1., 0., 0., ..., 0., 0., 0.],\n",
       "       [0., 1., 0., ..., 0., 0., 0.]])"
      ]
     },
     "execution_count": 97,
     "metadata": {},
     "output_type": "execute_result"
    }
   ],
   "source": [
    "enc=preprocessing.OneHotEncoder(drop='first')\n",
    "enc.fit_transform(bankdata[['job','marital','education','credit','housing','loan','y']]).toarray()"
   ]
  },
  {
   "cell_type": "code",
   "execution_count": 98,
   "id": "9271e44e",
   "metadata": {},
   "outputs": [
    {
     "data": {
      "text/plain": [
       "[array(['admin.', 'blue-collar', 'entrepreneur', 'housemaid', 'management',\n",
       "        'retired', 'self-employed', 'services', 'student', 'technician',\n",
       "        'unemployed'], dtype=object),\n",
       " array(['divorced', 'married', 'single'], dtype=object),\n",
       " array(['primary', 'secondary', 'tertiary'], dtype=object),\n",
       " array(['credit_no', 'credit_yes'], dtype=object),\n",
       " array(['housing_no', 'housing_yes'], dtype=object),\n",
       " array(['loan_no', 'loan_yes'], dtype=object),\n",
       " array(['no', 'yes'], dtype=object)]"
      ]
     },
     "execution_count": 98,
     "metadata": {},
     "output_type": "execute_result"
    }
   ],
   "source": [
    "enc.categories_"
   ]
  },
  {
   "cell_type": "code",
   "execution_count": 99,
   "id": "46286229",
   "metadata": {},
   "outputs": [],
   "source": [
    "enc=preprocessing.OrdinalEncoder()"
   ]
  },
  {
   "cell_type": "code",
   "execution_count": 100,
   "id": "b2672f2d",
   "metadata": {},
   "outputs": [],
   "source": [
    "bankdata['y']=enc.fit_transform(bankdata['y'].values.reshape(-1,1))"
   ]
  },
  {
   "cell_type": "code",
   "execution_count": 101,
   "id": "6df04f63",
   "metadata": {},
   "outputs": [],
   "source": [
    "enc=preprocessing.OneHotEncoder(drop='first')"
   ]
  },
  {
   "cell_type": "code",
   "execution_count": 102,
   "id": "b64606d3",
   "metadata": {},
   "outputs": [],
   "source": [
    "onehots=enc.fit_transform(bankdata[['job','marital','education','credit','housing','loan']]).toarray()"
   ]
  },
  {
   "cell_type": "code",
   "execution_count": 103,
   "id": "f7eb996f",
   "metadata": {},
   "outputs": [],
   "source": [
    "cols=[]"
   ]
  },
  {
   "cell_type": "code",
   "execution_count": 104,
   "id": "158aba8f",
   "metadata": {},
   "outputs": [],
   "source": [
    "for i in enc.categories_:\n",
    "    i=np.delete(i,0)\n",
    "    cols.extend(i)"
   ]
  },
  {
   "cell_type": "code",
   "execution_count": 105,
   "id": "26868acc",
   "metadata": {},
   "outputs": [],
   "source": [
    "bankdata=bankdata.join(pd.DataFrame(onehots,columns=cols))"
   ]
  },
  {
   "cell_type": "code",
   "execution_count": 106,
   "id": "1e54d7b9",
   "metadata": {},
   "outputs": [],
   "source": [
    "bankdata=bankdata.drop(['job','marital','education','credit','housing','loan'],axis=1)"
   ]
  },
  {
   "cell_type": "code",
   "execution_count": 107,
   "id": "a50474b4",
   "metadata": {},
   "outputs": [],
   "source": [
    "pd.set_option(\"display.max_columns\", None)"
   ]
  },
  {
   "cell_type": "code",
   "execution_count": 108,
   "id": "08fad242",
   "metadata": {},
   "outputs": [
    {
     "data": {
      "text/html": [
       "<div>\n",
       "<style scoped>\n",
       "    .dataframe tbody tr th:only-of-type {\n",
       "        vertical-align: middle;\n",
       "    }\n",
       "\n",
       "    .dataframe tbody tr th {\n",
       "        vertical-align: top;\n",
       "    }\n",
       "\n",
       "    .dataframe thead th {\n",
       "        text-align: right;\n",
       "    }\n",
       "</style>\n",
       "<table border=\"1\" class=\"dataframe\">\n",
       "  <thead>\n",
       "    <tr style=\"text-align: right;\">\n",
       "      <th></th>\n",
       "      <th>age</th>\n",
       "      <th>balance</th>\n",
       "      <th>day</th>\n",
       "      <th>duration</th>\n",
       "      <th>campaign</th>\n",
       "      <th>pdays</th>\n",
       "      <th>previous</th>\n",
       "      <th>y</th>\n",
       "      <th>blue-collar</th>\n",
       "      <th>entrepreneur</th>\n",
       "      <th>housemaid</th>\n",
       "      <th>management</th>\n",
       "      <th>retired</th>\n",
       "      <th>self-employed</th>\n",
       "      <th>services</th>\n",
       "      <th>student</th>\n",
       "      <th>technician</th>\n",
       "      <th>unemployed</th>\n",
       "      <th>married</th>\n",
       "      <th>single</th>\n",
       "      <th>secondary</th>\n",
       "      <th>tertiary</th>\n",
       "      <th>credit_yes</th>\n",
       "      <th>housing_yes</th>\n",
       "      <th>loan_yes</th>\n",
       "    </tr>\n",
       "  </thead>\n",
       "  <tbody>\n",
       "    <tr>\n",
       "      <th>0</th>\n",
       "      <td>58</td>\n",
       "      <td>2143</td>\n",
       "      <td>5</td>\n",
       "      <td>261</td>\n",
       "      <td>1</td>\n",
       "      <td>-1</td>\n",
       "      <td>0</td>\n",
       "      <td>0.0</td>\n",
       "      <td>0.0</td>\n",
       "      <td>0.0</td>\n",
       "      <td>0.0</td>\n",
       "      <td>1.0</td>\n",
       "      <td>0.0</td>\n",
       "      <td>0.0</td>\n",
       "      <td>0.0</td>\n",
       "      <td>0.0</td>\n",
       "      <td>0.0</td>\n",
       "      <td>0.0</td>\n",
       "      <td>1.0</td>\n",
       "      <td>0.0</td>\n",
       "      <td>0.0</td>\n",
       "      <td>1.0</td>\n",
       "      <td>0.0</td>\n",
       "      <td>1.0</td>\n",
       "      <td>0.0</td>\n",
       "    </tr>\n",
       "    <tr>\n",
       "      <th>1</th>\n",
       "      <td>44</td>\n",
       "      <td>29</td>\n",
       "      <td>5</td>\n",
       "      <td>151</td>\n",
       "      <td>1</td>\n",
       "      <td>-1</td>\n",
       "      <td>0</td>\n",
       "      <td>0.0</td>\n",
       "      <td>0.0</td>\n",
       "      <td>0.0</td>\n",
       "      <td>0.0</td>\n",
       "      <td>0.0</td>\n",
       "      <td>0.0</td>\n",
       "      <td>0.0</td>\n",
       "      <td>0.0</td>\n",
       "      <td>0.0</td>\n",
       "      <td>1.0</td>\n",
       "      <td>0.0</td>\n",
       "      <td>0.0</td>\n",
       "      <td>1.0</td>\n",
       "      <td>1.0</td>\n",
       "      <td>0.0</td>\n",
       "      <td>0.0</td>\n",
       "      <td>1.0</td>\n",
       "      <td>0.0</td>\n",
       "    </tr>\n",
       "    <tr>\n",
       "      <th>2</th>\n",
       "      <td>33</td>\n",
       "      <td>2</td>\n",
       "      <td>5</td>\n",
       "      <td>76</td>\n",
       "      <td>1</td>\n",
       "      <td>-1</td>\n",
       "      <td>0</td>\n",
       "      <td>0.0</td>\n",
       "      <td>0.0</td>\n",
       "      <td>1.0</td>\n",
       "      <td>0.0</td>\n",
       "      <td>0.0</td>\n",
       "      <td>0.0</td>\n",
       "      <td>0.0</td>\n",
       "      <td>0.0</td>\n",
       "      <td>0.0</td>\n",
       "      <td>0.0</td>\n",
       "      <td>0.0</td>\n",
       "      <td>1.0</td>\n",
       "      <td>0.0</td>\n",
       "      <td>1.0</td>\n",
       "      <td>0.0</td>\n",
       "      <td>0.0</td>\n",
       "      <td>1.0</td>\n",
       "      <td>1.0</td>\n",
       "    </tr>\n",
       "    <tr>\n",
       "      <th>3</th>\n",
       "      <td>35</td>\n",
       "      <td>231</td>\n",
       "      <td>5</td>\n",
       "      <td>139</td>\n",
       "      <td>1</td>\n",
       "      <td>-1</td>\n",
       "      <td>0</td>\n",
       "      <td>0.0</td>\n",
       "      <td>0.0</td>\n",
       "      <td>0.0</td>\n",
       "      <td>0.0</td>\n",
       "      <td>1.0</td>\n",
       "      <td>0.0</td>\n",
       "      <td>0.0</td>\n",
       "      <td>0.0</td>\n",
       "      <td>0.0</td>\n",
       "      <td>0.0</td>\n",
       "      <td>0.0</td>\n",
       "      <td>1.0</td>\n",
       "      <td>0.0</td>\n",
       "      <td>0.0</td>\n",
       "      <td>1.0</td>\n",
       "      <td>0.0</td>\n",
       "      <td>1.0</td>\n",
       "      <td>0.0</td>\n",
       "    </tr>\n",
       "    <tr>\n",
       "      <th>4</th>\n",
       "      <td>28</td>\n",
       "      <td>447</td>\n",
       "      <td>5</td>\n",
       "      <td>217</td>\n",
       "      <td>1</td>\n",
       "      <td>-1</td>\n",
       "      <td>0</td>\n",
       "      <td>0.0</td>\n",
       "      <td>0.0</td>\n",
       "      <td>0.0</td>\n",
       "      <td>0.0</td>\n",
       "      <td>1.0</td>\n",
       "      <td>0.0</td>\n",
       "      <td>0.0</td>\n",
       "      <td>0.0</td>\n",
       "      <td>0.0</td>\n",
       "      <td>0.0</td>\n",
       "      <td>0.0</td>\n",
       "      <td>0.0</td>\n",
       "      <td>1.0</td>\n",
       "      <td>0.0</td>\n",
       "      <td>1.0</td>\n",
       "      <td>0.0</td>\n",
       "      <td>1.0</td>\n",
       "      <td>1.0</td>\n",
       "    </tr>\n",
       "    <tr>\n",
       "      <th>...</th>\n",
       "      <td>...</td>\n",
       "      <td>...</td>\n",
       "      <td>...</td>\n",
       "      <td>...</td>\n",
       "      <td>...</td>\n",
       "      <td>...</td>\n",
       "      <td>...</td>\n",
       "      <td>...</td>\n",
       "      <td>...</td>\n",
       "      <td>...</td>\n",
       "      <td>...</td>\n",
       "      <td>...</td>\n",
       "      <td>...</td>\n",
       "      <td>...</td>\n",
       "      <td>...</td>\n",
       "      <td>...</td>\n",
       "      <td>...</td>\n",
       "      <td>...</td>\n",
       "      <td>...</td>\n",
       "      <td>...</td>\n",
       "      <td>...</td>\n",
       "      <td>...</td>\n",
       "      <td>...</td>\n",
       "      <td>...</td>\n",
       "      <td>...</td>\n",
       "    </tr>\n",
       "    <tr>\n",
       "      <th>43188</th>\n",
       "      <td>51</td>\n",
       "      <td>825</td>\n",
       "      <td>17</td>\n",
       "      <td>977</td>\n",
       "      <td>3</td>\n",
       "      <td>-1</td>\n",
       "      <td>0</td>\n",
       "      <td>1.0</td>\n",
       "      <td>0.0</td>\n",
       "      <td>0.0</td>\n",
       "      <td>0.0</td>\n",
       "      <td>0.0</td>\n",
       "      <td>0.0</td>\n",
       "      <td>0.0</td>\n",
       "      <td>0.0</td>\n",
       "      <td>0.0</td>\n",
       "      <td>1.0</td>\n",
       "      <td>0.0</td>\n",
       "      <td>1.0</td>\n",
       "      <td>0.0</td>\n",
       "      <td>0.0</td>\n",
       "      <td>1.0</td>\n",
       "      <td>0.0</td>\n",
       "      <td>0.0</td>\n",
       "      <td>0.0</td>\n",
       "    </tr>\n",
       "    <tr>\n",
       "      <th>43189</th>\n",
       "      <td>71</td>\n",
       "      <td>1729</td>\n",
       "      <td>17</td>\n",
       "      <td>456</td>\n",
       "      <td>2</td>\n",
       "      <td>-1</td>\n",
       "      <td>0</td>\n",
       "      <td>1.0</td>\n",
       "      <td>0.0</td>\n",
       "      <td>0.0</td>\n",
       "      <td>0.0</td>\n",
       "      <td>0.0</td>\n",
       "      <td>1.0</td>\n",
       "      <td>0.0</td>\n",
       "      <td>0.0</td>\n",
       "      <td>0.0</td>\n",
       "      <td>0.0</td>\n",
       "      <td>0.0</td>\n",
       "      <td>0.0</td>\n",
       "      <td>0.0</td>\n",
       "      <td>0.0</td>\n",
       "      <td>0.0</td>\n",
       "      <td>0.0</td>\n",
       "      <td>0.0</td>\n",
       "      <td>0.0</td>\n",
       "    </tr>\n",
       "    <tr>\n",
       "      <th>43190</th>\n",
       "      <td>72</td>\n",
       "      <td>5715</td>\n",
       "      <td>17</td>\n",
       "      <td>1127</td>\n",
       "      <td>5</td>\n",
       "      <td>184</td>\n",
       "      <td>3</td>\n",
       "      <td>1.0</td>\n",
       "      <td>0.0</td>\n",
       "      <td>0.0</td>\n",
       "      <td>0.0</td>\n",
       "      <td>0.0</td>\n",
       "      <td>1.0</td>\n",
       "      <td>0.0</td>\n",
       "      <td>0.0</td>\n",
       "      <td>0.0</td>\n",
       "      <td>0.0</td>\n",
       "      <td>0.0</td>\n",
       "      <td>1.0</td>\n",
       "      <td>0.0</td>\n",
       "      <td>1.0</td>\n",
       "      <td>0.0</td>\n",
       "      <td>0.0</td>\n",
       "      <td>0.0</td>\n",
       "      <td>0.0</td>\n",
       "    </tr>\n",
       "    <tr>\n",
       "      <th>43191</th>\n",
       "      <td>57</td>\n",
       "      <td>668</td>\n",
       "      <td>17</td>\n",
       "      <td>508</td>\n",
       "      <td>4</td>\n",
       "      <td>-1</td>\n",
       "      <td>0</td>\n",
       "      <td>0.0</td>\n",
       "      <td>1.0</td>\n",
       "      <td>0.0</td>\n",
       "      <td>0.0</td>\n",
       "      <td>0.0</td>\n",
       "      <td>0.0</td>\n",
       "      <td>0.0</td>\n",
       "      <td>0.0</td>\n",
       "      <td>0.0</td>\n",
       "      <td>0.0</td>\n",
       "      <td>0.0</td>\n",
       "      <td>1.0</td>\n",
       "      <td>0.0</td>\n",
       "      <td>1.0</td>\n",
       "      <td>0.0</td>\n",
       "      <td>0.0</td>\n",
       "      <td>0.0</td>\n",
       "      <td>0.0</td>\n",
       "    </tr>\n",
       "    <tr>\n",
       "      <th>43192</th>\n",
       "      <td>37</td>\n",
       "      <td>2971</td>\n",
       "      <td>17</td>\n",
       "      <td>361</td>\n",
       "      <td>2</td>\n",
       "      <td>188</td>\n",
       "      <td>11</td>\n",
       "      <td>0.0</td>\n",
       "      <td>0.0</td>\n",
       "      <td>1.0</td>\n",
       "      <td>0.0</td>\n",
       "      <td>0.0</td>\n",
       "      <td>0.0</td>\n",
       "      <td>0.0</td>\n",
       "      <td>0.0</td>\n",
       "      <td>0.0</td>\n",
       "      <td>0.0</td>\n",
       "      <td>0.0</td>\n",
       "      <td>1.0</td>\n",
       "      <td>0.0</td>\n",
       "      <td>1.0</td>\n",
       "      <td>0.0</td>\n",
       "      <td>0.0</td>\n",
       "      <td>0.0</td>\n",
       "      <td>0.0</td>\n",
       "    </tr>\n",
       "  </tbody>\n",
       "</table>\n",
       "<p>43193 rows × 25 columns</p>\n",
       "</div>"
      ],
      "text/plain": [
       "       age  balance  day  duration  campaign  pdays  previous    y  \\\n",
       "0       58     2143    5       261         1     -1         0  0.0   \n",
       "1       44       29    5       151         1     -1         0  0.0   \n",
       "2       33        2    5        76         1     -1         0  0.0   \n",
       "3       35      231    5       139         1     -1         0  0.0   \n",
       "4       28      447    5       217         1     -1         0  0.0   \n",
       "...    ...      ...  ...       ...       ...    ...       ...  ...   \n",
       "43188   51      825   17       977         3     -1         0  1.0   \n",
       "43189   71     1729   17       456         2     -1         0  1.0   \n",
       "43190   72     5715   17      1127         5    184         3  1.0   \n",
       "43191   57      668   17       508         4     -1         0  0.0   \n",
       "43192   37     2971   17       361         2    188        11  0.0   \n",
       "\n",
       "       blue-collar  entrepreneur  housemaid  management  retired  \\\n",
       "0              0.0           0.0        0.0         1.0      0.0   \n",
       "1              0.0           0.0        0.0         0.0      0.0   \n",
       "2              0.0           1.0        0.0         0.0      0.0   \n",
       "3              0.0           0.0        0.0         1.0      0.0   \n",
       "4              0.0           0.0        0.0         1.0      0.0   \n",
       "...            ...           ...        ...         ...      ...   \n",
       "43188          0.0           0.0        0.0         0.0      0.0   \n",
       "43189          0.0           0.0        0.0         0.0      1.0   \n",
       "43190          0.0           0.0        0.0         0.0      1.0   \n",
       "43191          1.0           0.0        0.0         0.0      0.0   \n",
       "43192          0.0           1.0        0.0         0.0      0.0   \n",
       "\n",
       "       self-employed  services  student  technician  unemployed  married  \\\n",
       "0                0.0       0.0      0.0         0.0         0.0      1.0   \n",
       "1                0.0       0.0      0.0         1.0         0.0      0.0   \n",
       "2                0.0       0.0      0.0         0.0         0.0      1.0   \n",
       "3                0.0       0.0      0.0         0.0         0.0      1.0   \n",
       "4                0.0       0.0      0.0         0.0         0.0      0.0   \n",
       "...              ...       ...      ...         ...         ...      ...   \n",
       "43188            0.0       0.0      0.0         1.0         0.0      1.0   \n",
       "43189            0.0       0.0      0.0         0.0         0.0      0.0   \n",
       "43190            0.0       0.0      0.0         0.0         0.0      1.0   \n",
       "43191            0.0       0.0      0.0         0.0         0.0      1.0   \n",
       "43192            0.0       0.0      0.0         0.0         0.0      1.0   \n",
       "\n",
       "       single  secondary  tertiary  credit_yes  housing_yes  loan_yes  \n",
       "0         0.0        0.0       1.0         0.0          1.0       0.0  \n",
       "1         1.0        1.0       0.0         0.0          1.0       0.0  \n",
       "2         0.0        1.0       0.0         0.0          1.0       1.0  \n",
       "3         0.0        0.0       1.0         0.0          1.0       0.0  \n",
       "4         1.0        0.0       1.0         0.0          1.0       1.0  \n",
       "...       ...        ...       ...         ...          ...       ...  \n",
       "43188     0.0        0.0       1.0         0.0          0.0       0.0  \n",
       "43189     0.0        0.0       0.0         0.0          0.0       0.0  \n",
       "43190     0.0        1.0       0.0         0.0          0.0       0.0  \n",
       "43191     0.0        1.0       0.0         0.0          0.0       0.0  \n",
       "43192     0.0        1.0       0.0         0.0          0.0       0.0  \n",
       "\n",
       "[43193 rows x 25 columns]"
      ]
     },
     "execution_count": 108,
     "metadata": {},
     "output_type": "execute_result"
    }
   ],
   "source": [
    "bankdata"
   ]
  },
  {
   "cell_type": "code",
   "execution_count": 109,
   "id": "500224c9",
   "metadata": {},
   "outputs": [
    {
     "data": {
      "text/html": [
       "<div>\n",
       "<style scoped>\n",
       "    .dataframe tbody tr th:only-of-type {\n",
       "        vertical-align: middle;\n",
       "    }\n",
       "\n",
       "    .dataframe tbody tr th {\n",
       "        vertical-align: top;\n",
       "    }\n",
       "\n",
       "    .dataframe thead th {\n",
       "        text-align: right;\n",
       "    }\n",
       "</style>\n",
       "<table border=\"1\" class=\"dataframe\">\n",
       "  <thead>\n",
       "    <tr style=\"text-align: right;\">\n",
       "      <th></th>\n",
       "      <th>age</th>\n",
       "      <th>balance</th>\n",
       "      <th>day</th>\n",
       "      <th>duration</th>\n",
       "      <th>campaign</th>\n",
       "      <th>pdays</th>\n",
       "      <th>previous</th>\n",
       "      <th>y</th>\n",
       "      <th>blue-collar</th>\n",
       "      <th>entrepreneur</th>\n",
       "      <th>housemaid</th>\n",
       "      <th>management</th>\n",
       "      <th>retired</th>\n",
       "      <th>self-employed</th>\n",
       "      <th>services</th>\n",
       "      <th>student</th>\n",
       "      <th>technician</th>\n",
       "      <th>unemployed</th>\n",
       "      <th>married</th>\n",
       "      <th>single</th>\n",
       "      <th>secondary</th>\n",
       "      <th>tertiary</th>\n",
       "      <th>credit_yes</th>\n",
       "      <th>housing_yes</th>\n",
       "      <th>loan_yes</th>\n",
       "    </tr>\n",
       "  </thead>\n",
       "  <tbody>\n",
       "    <tr>\n",
       "      <th>count</th>\n",
       "      <td>43193.000000</td>\n",
       "      <td>43193.000000</td>\n",
       "      <td>43193.000000</td>\n",
       "      <td>43193.000000</td>\n",
       "      <td>43193.000000</td>\n",
       "      <td>43193.000000</td>\n",
       "      <td>43193.000000</td>\n",
       "      <td>43193.000000</td>\n",
       "      <td>43193.000000</td>\n",
       "      <td>43193.000000</td>\n",
       "      <td>43193.000000</td>\n",
       "      <td>43193.000000</td>\n",
       "      <td>43193.000000</td>\n",
       "      <td>43193.000000</td>\n",
       "      <td>43193.000000</td>\n",
       "      <td>43193.000000</td>\n",
       "      <td>43193.000000</td>\n",
       "      <td>43193.000000</td>\n",
       "      <td>43193.000000</td>\n",
       "      <td>43193.000000</td>\n",
       "      <td>43193.000000</td>\n",
       "      <td>43193.000000</td>\n",
       "      <td>43193.000000</td>\n",
       "      <td>43193.000000</td>\n",
       "      <td>43193.000000</td>\n",
       "    </tr>\n",
       "    <tr>\n",
       "      <th>mean</th>\n",
       "      <td>40.764082</td>\n",
       "      <td>1354.027342</td>\n",
       "      <td>15.809414</td>\n",
       "      <td>258.323409</td>\n",
       "      <td>2.758178</td>\n",
       "      <td>40.404070</td>\n",
       "      <td>0.584863</td>\n",
       "      <td>0.116246</td>\n",
       "      <td>0.214803</td>\n",
       "      <td>0.032667</td>\n",
       "      <td>0.027667</td>\n",
       "      <td>0.213368</td>\n",
       "      <td>0.049661</td>\n",
       "      <td>0.035654</td>\n",
       "      <td>0.092700</td>\n",
       "      <td>0.017943</td>\n",
       "      <td>0.170282</td>\n",
       "      <td>0.029496</td>\n",
       "      <td>0.600699</td>\n",
       "      <td>0.282893</td>\n",
       "      <td>0.535527</td>\n",
       "      <td>0.307040</td>\n",
       "      <td>0.018105</td>\n",
       "      <td>0.562406</td>\n",
       "      <td>0.164541</td>\n",
       "    </tr>\n",
       "    <tr>\n",
       "      <th>std</th>\n",
       "      <td>10.512640</td>\n",
       "      <td>3042.103625</td>\n",
       "      <td>8.305970</td>\n",
       "      <td>258.162006</td>\n",
       "      <td>3.063987</td>\n",
       "      <td>100.420624</td>\n",
       "      <td>2.332672</td>\n",
       "      <td>0.320523</td>\n",
       "      <td>0.410691</td>\n",
       "      <td>0.177766</td>\n",
       "      <td>0.164017</td>\n",
       "      <td>0.409690</td>\n",
       "      <td>0.217246</td>\n",
       "      <td>0.185428</td>\n",
       "      <td>0.290015</td>\n",
       "      <td>0.132745</td>\n",
       "      <td>0.375885</td>\n",
       "      <td>0.169193</td>\n",
       "      <td>0.489760</td>\n",
       "      <td>0.450410</td>\n",
       "      <td>0.498742</td>\n",
       "      <td>0.461272</td>\n",
       "      <td>0.133332</td>\n",
       "      <td>0.496096</td>\n",
       "      <td>0.370770</td>\n",
       "    </tr>\n",
       "    <tr>\n",
       "      <th>min</th>\n",
       "      <td>18.000000</td>\n",
       "      <td>-8019.000000</td>\n",
       "      <td>1.000000</td>\n",
       "      <td>0.000000</td>\n",
       "      <td>1.000000</td>\n",
       "      <td>-1.000000</td>\n",
       "      <td>0.000000</td>\n",
       "      <td>0.000000</td>\n",
       "      <td>0.000000</td>\n",
       "      <td>0.000000</td>\n",
       "      <td>0.000000</td>\n",
       "      <td>0.000000</td>\n",
       "      <td>0.000000</td>\n",
       "      <td>0.000000</td>\n",
       "      <td>0.000000</td>\n",
       "      <td>0.000000</td>\n",
       "      <td>0.000000</td>\n",
       "      <td>0.000000</td>\n",
       "      <td>0.000000</td>\n",
       "      <td>0.000000</td>\n",
       "      <td>0.000000</td>\n",
       "      <td>0.000000</td>\n",
       "      <td>0.000000</td>\n",
       "      <td>0.000000</td>\n",
       "      <td>0.000000</td>\n",
       "    </tr>\n",
       "    <tr>\n",
       "      <th>25%</th>\n",
       "      <td>33.000000</td>\n",
       "      <td>71.000000</td>\n",
       "      <td>8.000000</td>\n",
       "      <td>103.000000</td>\n",
       "      <td>1.000000</td>\n",
       "      <td>-1.000000</td>\n",
       "      <td>0.000000</td>\n",
       "      <td>0.000000</td>\n",
       "      <td>0.000000</td>\n",
       "      <td>0.000000</td>\n",
       "      <td>0.000000</td>\n",
       "      <td>0.000000</td>\n",
       "      <td>0.000000</td>\n",
       "      <td>0.000000</td>\n",
       "      <td>0.000000</td>\n",
       "      <td>0.000000</td>\n",
       "      <td>0.000000</td>\n",
       "      <td>0.000000</td>\n",
       "      <td>0.000000</td>\n",
       "      <td>0.000000</td>\n",
       "      <td>0.000000</td>\n",
       "      <td>0.000000</td>\n",
       "      <td>0.000000</td>\n",
       "      <td>0.000000</td>\n",
       "      <td>0.000000</td>\n",
       "    </tr>\n",
       "    <tr>\n",
       "      <th>50%</th>\n",
       "      <td>39.000000</td>\n",
       "      <td>442.000000</td>\n",
       "      <td>16.000000</td>\n",
       "      <td>180.000000</td>\n",
       "      <td>2.000000</td>\n",
       "      <td>-1.000000</td>\n",
       "      <td>0.000000</td>\n",
       "      <td>0.000000</td>\n",
       "      <td>0.000000</td>\n",
       "      <td>0.000000</td>\n",
       "      <td>0.000000</td>\n",
       "      <td>0.000000</td>\n",
       "      <td>0.000000</td>\n",
       "      <td>0.000000</td>\n",
       "      <td>0.000000</td>\n",
       "      <td>0.000000</td>\n",
       "      <td>0.000000</td>\n",
       "      <td>0.000000</td>\n",
       "      <td>1.000000</td>\n",
       "      <td>0.000000</td>\n",
       "      <td>1.000000</td>\n",
       "      <td>0.000000</td>\n",
       "      <td>0.000000</td>\n",
       "      <td>1.000000</td>\n",
       "      <td>0.000000</td>\n",
       "    </tr>\n",
       "    <tr>\n",
       "      <th>75%</th>\n",
       "      <td>48.000000</td>\n",
       "      <td>1412.000000</td>\n",
       "      <td>21.000000</td>\n",
       "      <td>318.000000</td>\n",
       "      <td>3.000000</td>\n",
       "      <td>-1.000000</td>\n",
       "      <td>0.000000</td>\n",
       "      <td>0.000000</td>\n",
       "      <td>0.000000</td>\n",
       "      <td>0.000000</td>\n",
       "      <td>0.000000</td>\n",
       "      <td>0.000000</td>\n",
       "      <td>0.000000</td>\n",
       "      <td>0.000000</td>\n",
       "      <td>0.000000</td>\n",
       "      <td>0.000000</td>\n",
       "      <td>0.000000</td>\n",
       "      <td>0.000000</td>\n",
       "      <td>1.000000</td>\n",
       "      <td>1.000000</td>\n",
       "      <td>1.000000</td>\n",
       "      <td>1.000000</td>\n",
       "      <td>0.000000</td>\n",
       "      <td>1.000000</td>\n",
       "      <td>0.000000</td>\n",
       "    </tr>\n",
       "    <tr>\n",
       "      <th>max</th>\n",
       "      <td>95.000000</td>\n",
       "      <td>102127.000000</td>\n",
       "      <td>31.000000</td>\n",
       "      <td>4918.000000</td>\n",
       "      <td>58.000000</td>\n",
       "      <td>871.000000</td>\n",
       "      <td>275.000000</td>\n",
       "      <td>1.000000</td>\n",
       "      <td>1.000000</td>\n",
       "      <td>1.000000</td>\n",
       "      <td>1.000000</td>\n",
       "      <td>1.000000</td>\n",
       "      <td>1.000000</td>\n",
       "      <td>1.000000</td>\n",
       "      <td>1.000000</td>\n",
       "      <td>1.000000</td>\n",
       "      <td>1.000000</td>\n",
       "      <td>1.000000</td>\n",
       "      <td>1.000000</td>\n",
       "      <td>1.000000</td>\n",
       "      <td>1.000000</td>\n",
       "      <td>1.000000</td>\n",
       "      <td>1.000000</td>\n",
       "      <td>1.000000</td>\n",
       "      <td>1.000000</td>\n",
       "    </tr>\n",
       "  </tbody>\n",
       "</table>\n",
       "</div>"
      ],
      "text/plain": [
       "                age        balance           day      duration      campaign  \\\n",
       "count  43193.000000   43193.000000  43193.000000  43193.000000  43193.000000   \n",
       "mean      40.764082    1354.027342     15.809414    258.323409      2.758178   \n",
       "std       10.512640    3042.103625      8.305970    258.162006      3.063987   \n",
       "min       18.000000   -8019.000000      1.000000      0.000000      1.000000   \n",
       "25%       33.000000      71.000000      8.000000    103.000000      1.000000   \n",
       "50%       39.000000     442.000000     16.000000    180.000000      2.000000   \n",
       "75%       48.000000    1412.000000     21.000000    318.000000      3.000000   \n",
       "max       95.000000  102127.000000     31.000000   4918.000000     58.000000   \n",
       "\n",
       "              pdays      previous             y   blue-collar  entrepreneur  \\\n",
       "count  43193.000000  43193.000000  43193.000000  43193.000000  43193.000000   \n",
       "mean      40.404070      0.584863      0.116246      0.214803      0.032667   \n",
       "std      100.420624      2.332672      0.320523      0.410691      0.177766   \n",
       "min       -1.000000      0.000000      0.000000      0.000000      0.000000   \n",
       "25%       -1.000000      0.000000      0.000000      0.000000      0.000000   \n",
       "50%       -1.000000      0.000000      0.000000      0.000000      0.000000   \n",
       "75%       -1.000000      0.000000      0.000000      0.000000      0.000000   \n",
       "max      871.000000    275.000000      1.000000      1.000000      1.000000   \n",
       "\n",
       "          housemaid    management       retired  self-employed      services  \\\n",
       "count  43193.000000  43193.000000  43193.000000   43193.000000  43193.000000   \n",
       "mean       0.027667      0.213368      0.049661       0.035654      0.092700   \n",
       "std        0.164017      0.409690      0.217246       0.185428      0.290015   \n",
       "min        0.000000      0.000000      0.000000       0.000000      0.000000   \n",
       "25%        0.000000      0.000000      0.000000       0.000000      0.000000   \n",
       "50%        0.000000      0.000000      0.000000       0.000000      0.000000   \n",
       "75%        0.000000      0.000000      0.000000       0.000000      0.000000   \n",
       "max        1.000000      1.000000      1.000000       1.000000      1.000000   \n",
       "\n",
       "            student    technician    unemployed       married        single  \\\n",
       "count  43193.000000  43193.000000  43193.000000  43193.000000  43193.000000   \n",
       "mean       0.017943      0.170282      0.029496      0.600699      0.282893   \n",
       "std        0.132745      0.375885      0.169193      0.489760      0.450410   \n",
       "min        0.000000      0.000000      0.000000      0.000000      0.000000   \n",
       "25%        0.000000      0.000000      0.000000      0.000000      0.000000   \n",
       "50%        0.000000      0.000000      0.000000      1.000000      0.000000   \n",
       "75%        0.000000      0.000000      0.000000      1.000000      1.000000   \n",
       "max        1.000000      1.000000      1.000000      1.000000      1.000000   \n",
       "\n",
       "          secondary      tertiary    credit_yes   housing_yes      loan_yes  \n",
       "count  43193.000000  43193.000000  43193.000000  43193.000000  43193.000000  \n",
       "mean       0.535527      0.307040      0.018105      0.562406      0.164541  \n",
       "std        0.498742      0.461272      0.133332      0.496096      0.370770  \n",
       "min        0.000000      0.000000      0.000000      0.000000      0.000000  \n",
       "25%        0.000000      0.000000      0.000000      0.000000      0.000000  \n",
       "50%        1.000000      0.000000      0.000000      1.000000      0.000000  \n",
       "75%        1.000000      1.000000      0.000000      1.000000      0.000000  \n",
       "max        1.000000      1.000000      1.000000      1.000000      1.000000  "
      ]
     },
     "execution_count": 109,
     "metadata": {},
     "output_type": "execute_result"
    }
   ],
   "source": [
    "bankdata.describe(include='all')"
   ]
  },
  {
   "cell_type": "code",
   "execution_count": 110,
   "id": "73f01168",
   "metadata": {},
   "outputs": [],
   "source": [
    "# Target variable"
   ]
  },
  {
   "cell_type": "code",
   "execution_count": 111,
   "id": "8ff6e01a",
   "metadata": {},
   "outputs": [
    {
     "data": {
      "text/plain": [
       "0.0    38172\n",
       "1.0     5021\n",
       "Name: y, dtype: int64"
      ]
     },
     "execution_count": 111,
     "metadata": {},
     "output_type": "execute_result"
    }
   ],
   "source": [
    "bankdata.y.value_counts()"
   ]
  },
  {
   "cell_type": "code",
   "execution_count": 112,
   "id": "e0c9e048",
   "metadata": {},
   "outputs": [],
   "source": [
    "#Determining class feature and input features"
   ]
  },
  {
   "cell_type": "code",
   "execution_count": 113,
   "id": "910d5b50",
   "metadata": {},
   "outputs": [],
   "source": [
    "# Check whether the data divided is correct"
   ]
  },
  {
   "cell_type": "code",
   "execution_count": 114,
   "id": "3573be3b",
   "metadata": {},
   "outputs": [],
   "source": [
    "X= bankdata.iloc[:, bankdata.columns != 'y']"
   ]
  },
  {
   "cell_type": "code",
   "execution_count": 115,
   "id": "ff8d1489",
   "metadata": {},
   "outputs": [
    {
     "data": {
      "text/html": [
       "<div>\n",
       "<style scoped>\n",
       "    .dataframe tbody tr th:only-of-type {\n",
       "        vertical-align: middle;\n",
       "    }\n",
       "\n",
       "    .dataframe tbody tr th {\n",
       "        vertical-align: top;\n",
       "    }\n",
       "\n",
       "    .dataframe thead th {\n",
       "        text-align: right;\n",
       "    }\n",
       "</style>\n",
       "<table border=\"1\" class=\"dataframe\">\n",
       "  <thead>\n",
       "    <tr style=\"text-align: right;\">\n",
       "      <th></th>\n",
       "      <th>age</th>\n",
       "      <th>balance</th>\n",
       "      <th>day</th>\n",
       "      <th>duration</th>\n",
       "      <th>campaign</th>\n",
       "      <th>pdays</th>\n",
       "      <th>previous</th>\n",
       "      <th>blue-collar</th>\n",
       "      <th>entrepreneur</th>\n",
       "      <th>housemaid</th>\n",
       "      <th>management</th>\n",
       "      <th>retired</th>\n",
       "      <th>self-employed</th>\n",
       "      <th>services</th>\n",
       "      <th>student</th>\n",
       "      <th>technician</th>\n",
       "      <th>unemployed</th>\n",
       "      <th>married</th>\n",
       "      <th>single</th>\n",
       "      <th>secondary</th>\n",
       "      <th>tertiary</th>\n",
       "      <th>credit_yes</th>\n",
       "      <th>housing_yes</th>\n",
       "      <th>loan_yes</th>\n",
       "    </tr>\n",
       "  </thead>\n",
       "  <tbody>\n",
       "    <tr>\n",
       "      <th>0</th>\n",
       "      <td>58</td>\n",
       "      <td>2143</td>\n",
       "      <td>5</td>\n",
       "      <td>261</td>\n",
       "      <td>1</td>\n",
       "      <td>-1</td>\n",
       "      <td>0</td>\n",
       "      <td>0.0</td>\n",
       "      <td>0.0</td>\n",
       "      <td>0.0</td>\n",
       "      <td>1.0</td>\n",
       "      <td>0.0</td>\n",
       "      <td>0.0</td>\n",
       "      <td>0.0</td>\n",
       "      <td>0.0</td>\n",
       "      <td>0.0</td>\n",
       "      <td>0.0</td>\n",
       "      <td>1.0</td>\n",
       "      <td>0.0</td>\n",
       "      <td>0.0</td>\n",
       "      <td>1.0</td>\n",
       "      <td>0.0</td>\n",
       "      <td>1.0</td>\n",
       "      <td>0.0</td>\n",
       "    </tr>\n",
       "    <tr>\n",
       "      <th>1</th>\n",
       "      <td>44</td>\n",
       "      <td>29</td>\n",
       "      <td>5</td>\n",
       "      <td>151</td>\n",
       "      <td>1</td>\n",
       "      <td>-1</td>\n",
       "      <td>0</td>\n",
       "      <td>0.0</td>\n",
       "      <td>0.0</td>\n",
       "      <td>0.0</td>\n",
       "      <td>0.0</td>\n",
       "      <td>0.0</td>\n",
       "      <td>0.0</td>\n",
       "      <td>0.0</td>\n",
       "      <td>0.0</td>\n",
       "      <td>1.0</td>\n",
       "      <td>0.0</td>\n",
       "      <td>0.0</td>\n",
       "      <td>1.0</td>\n",
       "      <td>1.0</td>\n",
       "      <td>0.0</td>\n",
       "      <td>0.0</td>\n",
       "      <td>1.0</td>\n",
       "      <td>0.0</td>\n",
       "    </tr>\n",
       "    <tr>\n",
       "      <th>2</th>\n",
       "      <td>33</td>\n",
       "      <td>2</td>\n",
       "      <td>5</td>\n",
       "      <td>76</td>\n",
       "      <td>1</td>\n",
       "      <td>-1</td>\n",
       "      <td>0</td>\n",
       "      <td>0.0</td>\n",
       "      <td>1.0</td>\n",
       "      <td>0.0</td>\n",
       "      <td>0.0</td>\n",
       "      <td>0.0</td>\n",
       "      <td>0.0</td>\n",
       "      <td>0.0</td>\n",
       "      <td>0.0</td>\n",
       "      <td>0.0</td>\n",
       "      <td>0.0</td>\n",
       "      <td>1.0</td>\n",
       "      <td>0.0</td>\n",
       "      <td>1.0</td>\n",
       "      <td>0.0</td>\n",
       "      <td>0.0</td>\n",
       "      <td>1.0</td>\n",
       "      <td>1.0</td>\n",
       "    </tr>\n",
       "    <tr>\n",
       "      <th>3</th>\n",
       "      <td>35</td>\n",
       "      <td>231</td>\n",
       "      <td>5</td>\n",
       "      <td>139</td>\n",
       "      <td>1</td>\n",
       "      <td>-1</td>\n",
       "      <td>0</td>\n",
       "      <td>0.0</td>\n",
       "      <td>0.0</td>\n",
       "      <td>0.0</td>\n",
       "      <td>1.0</td>\n",
       "      <td>0.0</td>\n",
       "      <td>0.0</td>\n",
       "      <td>0.0</td>\n",
       "      <td>0.0</td>\n",
       "      <td>0.0</td>\n",
       "      <td>0.0</td>\n",
       "      <td>1.0</td>\n",
       "      <td>0.0</td>\n",
       "      <td>0.0</td>\n",
       "      <td>1.0</td>\n",
       "      <td>0.0</td>\n",
       "      <td>1.0</td>\n",
       "      <td>0.0</td>\n",
       "    </tr>\n",
       "    <tr>\n",
       "      <th>4</th>\n",
       "      <td>28</td>\n",
       "      <td>447</td>\n",
       "      <td>5</td>\n",
       "      <td>217</td>\n",
       "      <td>1</td>\n",
       "      <td>-1</td>\n",
       "      <td>0</td>\n",
       "      <td>0.0</td>\n",
       "      <td>0.0</td>\n",
       "      <td>0.0</td>\n",
       "      <td>1.0</td>\n",
       "      <td>0.0</td>\n",
       "      <td>0.0</td>\n",
       "      <td>0.0</td>\n",
       "      <td>0.0</td>\n",
       "      <td>0.0</td>\n",
       "      <td>0.0</td>\n",
       "      <td>0.0</td>\n",
       "      <td>1.0</td>\n",
       "      <td>0.0</td>\n",
       "      <td>1.0</td>\n",
       "      <td>0.0</td>\n",
       "      <td>1.0</td>\n",
       "      <td>1.0</td>\n",
       "    </tr>\n",
       "    <tr>\n",
       "      <th>...</th>\n",
       "      <td>...</td>\n",
       "      <td>...</td>\n",
       "      <td>...</td>\n",
       "      <td>...</td>\n",
       "      <td>...</td>\n",
       "      <td>...</td>\n",
       "      <td>...</td>\n",
       "      <td>...</td>\n",
       "      <td>...</td>\n",
       "      <td>...</td>\n",
       "      <td>...</td>\n",
       "      <td>...</td>\n",
       "      <td>...</td>\n",
       "      <td>...</td>\n",
       "      <td>...</td>\n",
       "      <td>...</td>\n",
       "      <td>...</td>\n",
       "      <td>...</td>\n",
       "      <td>...</td>\n",
       "      <td>...</td>\n",
       "      <td>...</td>\n",
       "      <td>...</td>\n",
       "      <td>...</td>\n",
       "      <td>...</td>\n",
       "    </tr>\n",
       "    <tr>\n",
       "      <th>43188</th>\n",
       "      <td>51</td>\n",
       "      <td>825</td>\n",
       "      <td>17</td>\n",
       "      <td>977</td>\n",
       "      <td>3</td>\n",
       "      <td>-1</td>\n",
       "      <td>0</td>\n",
       "      <td>0.0</td>\n",
       "      <td>0.0</td>\n",
       "      <td>0.0</td>\n",
       "      <td>0.0</td>\n",
       "      <td>0.0</td>\n",
       "      <td>0.0</td>\n",
       "      <td>0.0</td>\n",
       "      <td>0.0</td>\n",
       "      <td>1.0</td>\n",
       "      <td>0.0</td>\n",
       "      <td>1.0</td>\n",
       "      <td>0.0</td>\n",
       "      <td>0.0</td>\n",
       "      <td>1.0</td>\n",
       "      <td>0.0</td>\n",
       "      <td>0.0</td>\n",
       "      <td>0.0</td>\n",
       "    </tr>\n",
       "    <tr>\n",
       "      <th>43189</th>\n",
       "      <td>71</td>\n",
       "      <td>1729</td>\n",
       "      <td>17</td>\n",
       "      <td>456</td>\n",
       "      <td>2</td>\n",
       "      <td>-1</td>\n",
       "      <td>0</td>\n",
       "      <td>0.0</td>\n",
       "      <td>0.0</td>\n",
       "      <td>0.0</td>\n",
       "      <td>0.0</td>\n",
       "      <td>1.0</td>\n",
       "      <td>0.0</td>\n",
       "      <td>0.0</td>\n",
       "      <td>0.0</td>\n",
       "      <td>0.0</td>\n",
       "      <td>0.0</td>\n",
       "      <td>0.0</td>\n",
       "      <td>0.0</td>\n",
       "      <td>0.0</td>\n",
       "      <td>0.0</td>\n",
       "      <td>0.0</td>\n",
       "      <td>0.0</td>\n",
       "      <td>0.0</td>\n",
       "    </tr>\n",
       "    <tr>\n",
       "      <th>43190</th>\n",
       "      <td>72</td>\n",
       "      <td>5715</td>\n",
       "      <td>17</td>\n",
       "      <td>1127</td>\n",
       "      <td>5</td>\n",
       "      <td>184</td>\n",
       "      <td>3</td>\n",
       "      <td>0.0</td>\n",
       "      <td>0.0</td>\n",
       "      <td>0.0</td>\n",
       "      <td>0.0</td>\n",
       "      <td>1.0</td>\n",
       "      <td>0.0</td>\n",
       "      <td>0.0</td>\n",
       "      <td>0.0</td>\n",
       "      <td>0.0</td>\n",
       "      <td>0.0</td>\n",
       "      <td>1.0</td>\n",
       "      <td>0.0</td>\n",
       "      <td>1.0</td>\n",
       "      <td>0.0</td>\n",
       "      <td>0.0</td>\n",
       "      <td>0.0</td>\n",
       "      <td>0.0</td>\n",
       "    </tr>\n",
       "    <tr>\n",
       "      <th>43191</th>\n",
       "      <td>57</td>\n",
       "      <td>668</td>\n",
       "      <td>17</td>\n",
       "      <td>508</td>\n",
       "      <td>4</td>\n",
       "      <td>-1</td>\n",
       "      <td>0</td>\n",
       "      <td>1.0</td>\n",
       "      <td>0.0</td>\n",
       "      <td>0.0</td>\n",
       "      <td>0.0</td>\n",
       "      <td>0.0</td>\n",
       "      <td>0.0</td>\n",
       "      <td>0.0</td>\n",
       "      <td>0.0</td>\n",
       "      <td>0.0</td>\n",
       "      <td>0.0</td>\n",
       "      <td>1.0</td>\n",
       "      <td>0.0</td>\n",
       "      <td>1.0</td>\n",
       "      <td>0.0</td>\n",
       "      <td>0.0</td>\n",
       "      <td>0.0</td>\n",
       "      <td>0.0</td>\n",
       "    </tr>\n",
       "    <tr>\n",
       "      <th>43192</th>\n",
       "      <td>37</td>\n",
       "      <td>2971</td>\n",
       "      <td>17</td>\n",
       "      <td>361</td>\n",
       "      <td>2</td>\n",
       "      <td>188</td>\n",
       "      <td>11</td>\n",
       "      <td>0.0</td>\n",
       "      <td>1.0</td>\n",
       "      <td>0.0</td>\n",
       "      <td>0.0</td>\n",
       "      <td>0.0</td>\n",
       "      <td>0.0</td>\n",
       "      <td>0.0</td>\n",
       "      <td>0.0</td>\n",
       "      <td>0.0</td>\n",
       "      <td>0.0</td>\n",
       "      <td>1.0</td>\n",
       "      <td>0.0</td>\n",
       "      <td>1.0</td>\n",
       "      <td>0.0</td>\n",
       "      <td>0.0</td>\n",
       "      <td>0.0</td>\n",
       "      <td>0.0</td>\n",
       "    </tr>\n",
       "  </tbody>\n",
       "</table>\n",
       "<p>43193 rows × 24 columns</p>\n",
       "</div>"
      ],
      "text/plain": [
       "       age  balance  day  duration  campaign  pdays  previous  blue-collar  \\\n",
       "0       58     2143    5       261         1     -1         0          0.0   \n",
       "1       44       29    5       151         1     -1         0          0.0   \n",
       "2       33        2    5        76         1     -1         0          0.0   \n",
       "3       35      231    5       139         1     -1         0          0.0   \n",
       "4       28      447    5       217         1     -1         0          0.0   \n",
       "...    ...      ...  ...       ...       ...    ...       ...          ...   \n",
       "43188   51      825   17       977         3     -1         0          0.0   \n",
       "43189   71     1729   17       456         2     -1         0          0.0   \n",
       "43190   72     5715   17      1127         5    184         3          0.0   \n",
       "43191   57      668   17       508         4     -1         0          1.0   \n",
       "43192   37     2971   17       361         2    188        11          0.0   \n",
       "\n",
       "       entrepreneur  housemaid  management  retired  self-employed  services  \\\n",
       "0               0.0        0.0         1.0      0.0            0.0       0.0   \n",
       "1               0.0        0.0         0.0      0.0            0.0       0.0   \n",
       "2               1.0        0.0         0.0      0.0            0.0       0.0   \n",
       "3               0.0        0.0         1.0      0.0            0.0       0.0   \n",
       "4               0.0        0.0         1.0      0.0            0.0       0.0   \n",
       "...             ...        ...         ...      ...            ...       ...   \n",
       "43188           0.0        0.0         0.0      0.0            0.0       0.0   \n",
       "43189           0.0        0.0         0.0      1.0            0.0       0.0   \n",
       "43190           0.0        0.0         0.0      1.0            0.0       0.0   \n",
       "43191           0.0        0.0         0.0      0.0            0.0       0.0   \n",
       "43192           1.0        0.0         0.0      0.0            0.0       0.0   \n",
       "\n",
       "       student  technician  unemployed  married  single  secondary  tertiary  \\\n",
       "0          0.0         0.0         0.0      1.0     0.0        0.0       1.0   \n",
       "1          0.0         1.0         0.0      0.0     1.0        1.0       0.0   \n",
       "2          0.0         0.0         0.0      1.0     0.0        1.0       0.0   \n",
       "3          0.0         0.0         0.0      1.0     0.0        0.0       1.0   \n",
       "4          0.0         0.0         0.0      0.0     1.0        0.0       1.0   \n",
       "...        ...         ...         ...      ...     ...        ...       ...   \n",
       "43188      0.0         1.0         0.0      1.0     0.0        0.0       1.0   \n",
       "43189      0.0         0.0         0.0      0.0     0.0        0.0       0.0   \n",
       "43190      0.0         0.0         0.0      1.0     0.0        1.0       0.0   \n",
       "43191      0.0         0.0         0.0      1.0     0.0        1.0       0.0   \n",
       "43192      0.0         0.0         0.0      1.0     0.0        1.0       0.0   \n",
       "\n",
       "       credit_yes  housing_yes  loan_yes  \n",
       "0             0.0          1.0       0.0  \n",
       "1             0.0          1.0       0.0  \n",
       "2             0.0          1.0       1.0  \n",
       "3             0.0          1.0       0.0  \n",
       "4             0.0          1.0       1.0  \n",
       "...           ...          ...       ...  \n",
       "43188         0.0          0.0       0.0  \n",
       "43189         0.0          0.0       0.0  \n",
       "43190         0.0          0.0       0.0  \n",
       "43191         0.0          0.0       0.0  \n",
       "43192         0.0          0.0       0.0  \n",
       "\n",
       "[43193 rows x 24 columns]"
      ]
     },
     "execution_count": 115,
     "metadata": {},
     "output_type": "execute_result"
    }
   ],
   "source": [
    "X"
   ]
  },
  {
   "cell_type": "code",
   "execution_count": 116,
   "id": "1448b750",
   "metadata": {},
   "outputs": [],
   "source": [
    "X= bankdata.iloc[:, bankdata.columns != 'y'].values"
   ]
  },
  {
   "cell_type": "code",
   "execution_count": 117,
   "id": "11aee228",
   "metadata": {},
   "outputs": [],
   "source": [
    "y=bankdata.iloc[:,7].values"
   ]
  },
  {
   "cell_type": "code",
   "execution_count": 118,
   "id": "58660527",
   "metadata": {},
   "outputs": [],
   "source": [
    "#Splitting dataset into training and test set"
   ]
  },
  {
   "cell_type": "code",
   "execution_count": 119,
   "id": "a2931d2f",
   "metadata": {},
   "outputs": [],
   "source": [
    "from sklearn.model_selection import train_test_split"
   ]
  },
  {
   "cell_type": "code",
   "execution_count": 120,
   "id": "1d4e21c0",
   "metadata": {},
   "outputs": [],
   "source": [
    "X_train,X_test,y_train,y_test=train_test_split(X,y,test_size=.30,random_state=0)"
   ]
  },
  {
   "cell_type": "code",
   "execution_count": 121,
   "id": "3b5cb3f3",
   "metadata": {},
   "outputs": [],
   "source": [
    "#Standardizing train and test dataset"
   ]
  },
  {
   "cell_type": "code",
   "execution_count": 122,
   "id": "28f627b9",
   "metadata": {},
   "outputs": [],
   "source": [
    "from sklearn.preprocessing import StandardScaler"
   ]
  },
  {
   "cell_type": "code",
   "execution_count": 123,
   "id": "13c0d6b2",
   "metadata": {},
   "outputs": [],
   "source": [
    "sc=StandardScaler()"
   ]
  },
  {
   "cell_type": "code",
   "execution_count": 124,
   "id": "7a69e73b",
   "metadata": {},
   "outputs": [],
   "source": [
    "X_train_s=sc.fit_transform(X_train)"
   ]
  },
  {
   "cell_type": "code",
   "execution_count": 125,
   "id": "78be3c03",
   "metadata": {},
   "outputs": [],
   "source": [
    "X_test_s=sc.transform(X_test)"
   ]
  },
  {
   "cell_type": "code",
   "execution_count": 126,
   "id": "4544ef93",
   "metadata": {},
   "outputs": [],
   "source": [
    "# Handling the imbalance target data"
   ]
  },
  {
   "cell_type": "code",
   "execution_count": 127,
   "id": "feb4871d",
   "metadata": {},
   "outputs": [],
   "source": [
    "#from imblearn.over_sampling import SMOTE "
   ]
  },
  {
   "cell_type": "code",
   "execution_count": 128,
   "id": "5d0b38d6",
   "metadata": {},
   "outputs": [],
   "source": [
    "#print(bankdata['y'].value_counts())"
   ]
  },
  {
   "cell_type": "code",
   "execution_count": 129,
   "id": "499dc773",
   "metadata": {},
   "outputs": [],
   "source": [
    "#resampler=SMOTE(random_state=0)\n",
    "#X_train_smote,y_train_smote=resampler.fit_resample(X_train_s,y_train)\n",
    "#sns.countplot(x=y_train_smote)"
   ]
  },
  {
   "cell_type": "code",
   "execution_count": 130,
   "id": "c25c8e28",
   "metadata": {
    "scrolled": true
   },
   "outputs": [],
   "source": [
    "#print(pd.Series(y_train_smote).value_counts())"
   ]
  },
  {
   "cell_type": "code",
   "execution_count": 131,
   "id": "e3e7d864",
   "metadata": {},
   "outputs": [],
   "source": [
    "#Training the model using KNN algorithm in scaled data"
   ]
  },
  {
   "cell_type": "code",
   "execution_count": 132,
   "id": "9d20fb5a",
   "metadata": {},
   "outputs": [
    {
     "data": {
      "text/plain": [
       "KNeighborsClassifier(p=5)"
      ]
     },
     "execution_count": 132,
     "metadata": {},
     "output_type": "execute_result"
    }
   ],
   "source": [
    "from sklearn.neighbors import KNeighborsClassifier\n",
    "classifier=KNeighborsClassifier(n_neighbors=5,metric='minkowski',p=5)\n",
    "classifier.fit(X_train_s,y_train)"
   ]
  },
  {
   "cell_type": "code",
   "execution_count": 133,
   "id": "47afab29",
   "metadata": {},
   "outputs": [],
   "source": [
    "#Predicting the test set results"
   ]
  },
  {
   "cell_type": "code",
   "execution_count": 134,
   "id": "aa99008a",
   "metadata": {},
   "outputs": [
    {
     "name": "stdout",
     "output_type": "stream",
     "text": [
      "[0. 0. 0. ... 1. 0. 0.]\n"
     ]
    }
   ],
   "source": [
    "y_pred=classifier.predict(X_test_s)\n",
    "\n",
    "print(y_pred)"
   ]
  },
  {
   "cell_type": "code",
   "execution_count": 135,
   "id": "2a72d85f",
   "metadata": {},
   "outputs": [
    {
     "name": "stdout",
     "output_type": "stream",
     "text": [
      "[0. 0. 0. ... 0. 1. 0.]\n"
     ]
    }
   ],
   "source": [
    "print(y_test)"
   ]
  },
  {
   "cell_type": "code",
   "execution_count": 136,
   "id": "eced103a",
   "metadata": {},
   "outputs": [],
   "source": [
    "# Evaluating the performance of scaled model"
   ]
  },
  {
   "cell_type": "code",
   "execution_count": 137,
   "id": "2ee16943",
   "metadata": {},
   "outputs": [
    {
     "name": "stdout",
     "output_type": "stream",
     "text": [
      "accuracy:0.89\n",
      "\n",
      "\n",
      "confusion matrix\n",
      "[[11116   377]\n",
      " [ 1083   382]] \n",
      "\n",
      "\n",
      "-----------------------------------------\n",
      "classification report\n",
      "\n",
      "              precision    recall  f1-score   support\n",
      "\n",
      "         0.0       0.91      0.97      0.94     11493\n",
      "         1.0       0.50      0.26      0.34      1465\n",
      "\n",
      "    accuracy                           0.89     12958\n",
      "   macro avg       0.71      0.61      0.64     12958\n",
      "weighted avg       0.87      0.89      0.87     12958\n",
      "\n"
     ]
    }
   ],
   "source": [
    "from sklearn import metrics\n",
    "acc=metrics.accuracy_score(y_test,y_pred)\n",
    "print('accuracy:%.2f\\n\\n'%(acc))\n",
    "cm=metrics.confusion_matrix(y_test,y_pred)\n",
    "print('confusion matrix')\n",
    "print(cm,'\\n\\n')\n",
    "print('-----------------------------------------')\n",
    "result=metrics.classification_report(y_test,y_pred)\n",
    "print('classification report\\n')\n",
    "print(result)"
   ]
  },
  {
   "cell_type": "code",
   "execution_count": 138,
   "id": "f225748f",
   "metadata": {},
   "outputs": [],
   "source": [
    "#Visualization of confusion Matrix"
   ]
  },
  {
   "cell_type": "code",
   "execution_count": 139,
   "id": "b8ab34da",
   "metadata": {},
   "outputs": [
    {
     "data": {
      "image/png": "[encoded data removed]",
      "text/plain": [
       "<Figure size 432x288 with 2 Axes>"
      ]
     },
     "metadata": {
      "needs_background": "light"
     },
     "output_type": "display_data"
    }
   ],
   "source": [
    "ax=sns.heatmap(cm,cmap='flare',annot=True,fmt='d')\n",
    "plt.xlabel(\"Predicted Class\",fontsize=12)\n",
    "plt.ylabel(\"True Class\",fontsize=12)\n",
    "plt.title(\"Confusion Matrix\",fontsize=12)\n",
    "plt.show()"
   ]
  },
  {
   "cell_type": "code",
   "execution_count": 140,
   "id": "38a2a1f3",
   "metadata": {},
   "outputs": [],
   "source": [
    "#***************************************************************************************************************************"
   ]
  },
  {
   "cell_type": "code",
   "execution_count": 141,
   "id": "5890f4a6",
   "metadata": {},
   "outputs": [],
   "source": [
    "#Training the model using KNN algorithm in smote data"
   ]
  },
  {
   "cell_type": "code",
   "execution_count": 142,
   "id": "fb7d85c6",
   "metadata": {},
   "outputs": [],
   "source": [
    "X= bankdata.iloc[:, bankdata.columns != 'y'].values"
   ]
  },
  {
   "cell_type": "code",
   "execution_count": 143,
   "id": "a0e5fb48",
   "metadata": {},
   "outputs": [],
   "source": [
    "y=bankdata.iloc[:,7].values"
   ]
  },
  {
   "cell_type": "code",
   "execution_count": 144,
   "id": "cb65dff6",
   "metadata": {},
   "outputs": [],
   "source": [
    "#Splitting dataset into training and test set"
   ]
  },
  {
   "cell_type": "code",
   "execution_count": 145,
   "id": "477f38c6",
   "metadata": {},
   "outputs": [],
   "source": [
    "from sklearn.model_selection import train_test_split"
   ]
  },
  {
   "cell_type": "code",
   "execution_count": 146,
   "id": "d9b3a3c2",
   "metadata": {},
   "outputs": [],
   "source": [
    "X_train,X_test,y_train,y_test=train_test_split(X,y,test_size=.30,random_state=0)"
   ]
  },
  {
   "cell_type": "code",
   "execution_count": 147,
   "id": "d5ed65c8",
   "metadata": {},
   "outputs": [],
   "source": [
    "from imblearn.over_sampling import SMOTE"
   ]
  },
  {
   "cell_type": "code",
   "execution_count": 148,
   "id": "9862d6e9",
   "metadata": {},
   "outputs": [
    {
     "data": {
      "text/plain": [
       "<AxesSubplot:ylabel='count'>"
      ]
     },
     "execution_count": 148,
     "metadata": {},
     "output_type": "execute_result"
    },
    {
     "data": {
      "image/png": "[encoded data removed]",
      "text/plain": [
       "<Figure size 432x288 with 1 Axes>"
      ]
     },
     "metadata": {
      "needs_background": "light"
     },
     "output_type": "display_data"
    }
   ],
   "source": [
    "resampler=SMOTE(random_state=0)\n",
    "X_train_smote,y_train_smote=resampler.fit_resample(X_train,y_train)\n",
    "sns.countplot(x=y_train_smote)"
   ]
  },
  {
   "cell_type": "code",
   "execution_count": 149,
   "id": "c649f450",
   "metadata": {},
   "outputs": [],
   "source": [
    "from sklearn.preprocessing import StandardScaler"
   ]
  },
  {
   "cell_type": "code",
   "execution_count": 150,
   "id": "aaa9632c",
   "metadata": {},
   "outputs": [],
   "source": [
    "sc=StandardScaler()"
   ]
  },
  {
   "cell_type": "code",
   "execution_count": 151,
   "id": "74cefbcb",
   "metadata": {},
   "outputs": [],
   "source": [
    "X_train_s=sc.fit_transform(X_train_smote)\n",
    "X_test_s=sc.transform(X_test)"
   ]
  },
  {
   "cell_type": "code",
   "execution_count": 152,
   "id": "d3236334",
   "metadata": {},
   "outputs": [
    {
     "data": {
      "text/plain": [
       "KNeighborsClassifier(p=5)"
      ]
     },
     "execution_count": 152,
     "metadata": {},
     "output_type": "execute_result"
    }
   ],
   "source": [
    "from sklearn.neighbors import KNeighborsClassifier\n",
    "classifier=KNeighborsClassifier(n_neighbors=5,metric='minkowski',p=5)\n",
    "classifier.fit(X_train_s,y_train_smote)"
   ]
  },
  {
   "cell_type": "code",
   "execution_count": 153,
   "id": "e8202947",
   "metadata": {},
   "outputs": [
    {
     "name": "stdout",
     "output_type": "stream",
     "text": [
      "[0. 0. 0. ... 1. 1. 0.]\n"
     ]
    }
   ],
   "source": [
    "y_pred=classifier.predict(X_test_s)\n",
    "\n",
    "print(y_pred)"
   ]
  },
  {
   "cell_type": "code",
   "execution_count": 154,
   "id": "af0f70f2",
   "metadata": {},
   "outputs": [
    {
     "name": "stdout",
     "output_type": "stream",
     "text": [
      "[0. 0. 0. ... 0. 1. 0.]\n"
     ]
    }
   ],
   "source": [
    "print(y_test)"
   ]
  },
  {
   "cell_type": "code",
   "execution_count": 155,
   "id": "357220e8",
   "metadata": {},
   "outputs": [
    {
     "name": "stdout",
     "output_type": "stream",
     "text": [
      "accuracy:0.82\n",
      "\n",
      "\n",
      "confusion matrix\n",
      "[[9755 1738]\n",
      " [ 649  816]] \n",
      "\n",
      "\n",
      "-----------------------------------------\n",
      "classification report\n",
      "\n",
      "              precision    recall  f1-score   support\n",
      "\n",
      "         0.0       0.94      0.85      0.89     11493\n",
      "         1.0       0.32      0.56      0.41      1465\n",
      "\n",
      "    accuracy                           0.82     12958\n",
      "   macro avg       0.63      0.70      0.65     12958\n",
      "weighted avg       0.87      0.82      0.84     12958\n",
      "\n"
     ]
    }
   ],
   "source": [
    "from sklearn import metrics\n",
    "acc=metrics.accuracy_score(y_test,y_pred)\n",
    "print('accuracy:%.2f\\n\\n'%(acc))\n",
    "cm=metrics.confusion_matrix(y_test,y_pred)\n",
    "print('confusion matrix')\n",
    "print(cm,'\\n\\n')\n",
    "print('-----------------------------------------')\n",
    "result=metrics.classification_report(y_test,y_pred)\n",
    "print('classification report\\n')\n",
    "print(result)"
   ]
  },
  {
   "cell_type": "code",
   "execution_count": 156,
   "id": "2e47e10d",
   "metadata": {},
   "outputs": [
    {
     "data": {
      "image/png": "[encoded data removed]",
      "text/plain": [
       "<Figure size 432x288 with 2 Axes>"
      ]
     },
     "metadata": {
      "needs_background": "light"
     },
     "output_type": "display_data"
    }
   ],
   "source": [
    "ax=sns.heatmap(cm,cmap='flare',annot=True,fmt='d')\n",
    "plt.xlabel(\"Predicted Class\",fontsize=12)\n",
    "plt.ylabel(\"True Class\",fontsize=12)\n",
    "plt.title(\"Confusion Matrix\",fontsize=12)\n",
    "plt.show()"
   ]
  },
  {
   "cell_type": "code",
   "execution_count": null,
   "id": "23ee959f",
   "metadata": {},
   "outputs": [],
   "source": []
  },
  {
   "cell_type": "code",
   "execution_count": null,
   "id": "4b4afd9c",
   "metadata": {},
   "outputs": [],
   "source": []
  },
  {
   "cell_type": "code",
   "execution_count": null,
   "id": "941bfc36",
   "metadata": {},
   "outputs": [],
   "source": []
  },
  {
   "cell_type": "code",
   "execution_count": null,
   "id": "27afcefe",
   "metadata": {},
   "outputs": [],
   "source": []
  },
  {
   "cell_type": "code",
   "execution_count": null,
   "id": "75591af5",
   "metadata": {},
   "outputs": [],
   "source": []
  },
  {
   "cell_type": "code",
   "execution_count": null,
   "id": "563c8195",
   "metadata": {},
   "outputs": [],
   "source": []
  },
  {
   "cell_type": "code",
   "execution_count": null,
   "id": "bdb696a0",
   "metadata": {},
   "outputs": [],
   "source": []
  },
  {
   "cell_type": "code",
   "execution_count": null,
   "id": "4497dcbd",
   "metadata": {},
   "outputs": [],
   "source": []
  },
  {
   "cell_type": "code",
   "execution_count": null,
   "id": "267584a1",
   "metadata": {},
   "outputs": [],
   "source": []
  },
  {
   "cell_type": "code",
   "execution_count": null,
   "id": "b06e5067",
   "metadata": {},
   "outputs": [],
   "source": []
  },
  {
   "cell_type": "code",
   "execution_count": null,
   "id": "c2f12a9d",
   "metadata": {},
   "outputs": [],
   "source": []
  },
  {
   "cell_type": "code",
   "execution_count": null,
   "id": "53a62b57",
   "metadata": {},
   "outputs": [],
   "source": []
  },
  {
   "cell_type": "code",
   "execution_count": null,
   "id": "55855ee7",
   "metadata": {},
   "outputs": [],
   "source": []
  },
  {
   "cell_type": "code",
   "execution_count": null,
   "id": "f7d499de",
   "metadata": {},
   "outputs": [],
   "source": []
  },
  {
   "cell_type": "code",
   "execution_count": null,
   "id": "6fce3c8b",
   "metadata": {},
   "outputs": [],
   "source": []
  },
  {
   "cell_type": "code",
   "execution_count": null,
   "id": "6d8c7ae7",
   "metadata": {},
   "outputs": [],
   "source": []
  },
  {
   "cell_type": "code",
   "execution_count": null,
   "id": "70490688",
   "metadata": {},
   "outputs": [],
   "source": []
  },
  {
   "cell_type": "code",
   "execution_count": null,
   "id": "d00162cd",
   "metadata": {},
   "outputs": [],
   "source": []
  },
  {
   "cell_type": "code",
   "execution_count": null,
   "id": "83af0492",
   "metadata": {},
   "outputs": [],
   "source": []
  },
  {
   "cell_type": "code",
   "execution_count": null,
   "id": "88c90192",
   "metadata": {},
   "outputs": [],
   "source": []
  },
  {
   "cell_type": "code",
   "execution_count": null,
   "id": "e436ee54",
   "metadata": {},
   "outputs": [],
   "source": []
  },
  {
   "cell_type": "code",
   "execution_count": null,
   "id": "6e53747e",
   "metadata": {},
   "outputs": [],
   "source": []
  },
  {
   "cell_type": "code",
   "execution_count": null,
   "id": "cf041b8c",
   "metadata": {},
   "outputs": [],
   "source": []
  }
 ],
 "metadata": {
  "kernelspec": {
   "display_name": "Python 3",
   "language": "python",
   "name": "python3"
  },
  "language_info": {
   "codemirror_mode": {
    "name": "ipython",
    "version": 3
   },
   "file_extension": ".py",
   "mimetype": "text/x-python",
   "name": "python",
   "nbconvert_exporter": "python",
   "pygments_lexer": "ipython3",
   "version": "3.7.11"
  }
 },
 "nbformat": 4,
 "nbformat_minor": 5
}
